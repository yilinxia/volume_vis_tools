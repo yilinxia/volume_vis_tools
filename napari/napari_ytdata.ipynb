{
 "cells": [
  {
   "cell_type": "markdown",
   "id": "6a12d76a-5c3e-4f14-bea5-317f73a319ee",
   "metadata": {},
   "source": [
    "credit: https://yt-project.github.io/blog/posts/ytnapariparty/"
   ]
  },
  {
   "cell_type": "markdown",
   "id": "b49cdd63-97bc-410c-8832-f7d4541b93d0",
   "metadata": {},
   "source": [
    "# Package Installation"
   ]
  },
  {
   "cell_type": "code",
   "execution_count": 4,
   "id": "2ca90bd3-dc17-4778-bcb5-392e8cec126f",
   "metadata": {},
   "outputs": [],
   "source": [
    "import yt \n",
    "import numpy as np\n",
    "import napari"
   ]
  },
  {
   "cell_type": "markdown",
   "id": "54a06524-51ae-4da3-9b96-14671ee06d97",
   "metadata": {},
   "source": [
    "# Load Data"
   ]
  },
  {
   "cell_type": "code",
   "execution_count": 5,
   "id": "5efe2652-6638-4310-a589-c20b1be777fd",
   "metadata": {},
   "outputs": [
    {
     "name": "stderr",
     "output_type": "stream",
     "text": [
      "yt : [INFO     ] 2022-01-07 08:24:25,443 Parameters: current_time              = 0.0060000200028298\n",
      "yt : [INFO     ] 2022-01-07 08:24:25,453 Parameters: domain_dimensions         = [32 32 32]\n",
      "yt : [INFO     ] 2022-01-07 08:24:25,461 Parameters: domain_left_edge          = [0. 0. 0.]\n",
      "yt : [INFO     ] 2022-01-07 08:24:25,466 Parameters: domain_right_edge         = [1. 1. 1.]\n",
      "yt : [INFO     ] 2022-01-07 08:24:25,467 Parameters: cosmological_simulation   = 0\n",
      "Parsing Hierarchy : 100%|███████████████████| 173/173 [00:00<00:00, 2383.06it/s]\n",
      "yt : [INFO     ] 2022-01-07 08:24:25,597 Gathering a field list (this may take a moment.)\n"
     ]
    }
   ],
   "source": [
    "ds = yt.load(\"IsolatedGalaxy/galaxy0030/galaxy0030\") \n",
    "cg = ds.r[::300j,::300j,::300j]\n",
    "dens_log = np.log10(cg['density'])"
   ]
  },
  {
   "cell_type": "markdown",
   "id": "647b56b8-6e1d-4b62-9edf-2c0a80c5aed7",
   "metadata": {},
   "source": [
    "# Digest Data in Napari"
   ]
  },
  {
   "cell_type": "code",
   "execution_count": 6,
   "id": "e0a3354b-1cb0-4c64-9ef4-1df4c142b9e8",
   "metadata": {},
   "outputs": [
    {
     "data": {
      "text/plain": [
       "<Image layer 'dens_log' at 0x7fbead0d2640>"
      ]
     },
     "execution_count": 6,
     "metadata": {},
     "output_type": "execute_result"
    }
   ],
   "source": [
    "%gui qt\n",
    "viewer = napari.Viewer()\n",
    "viewer.add_image(dens_log)"
   ]
  }
 ],
 "metadata": {
  "kernelspec": {
   "display_name": "Python 3 (ipykernel)",
   "language": "python",
   "name": "python3"
  },
  "language_info": {
   "codemirror_mode": {
    "name": "ipython",
    "version": 3
   },
   "file_extension": ".py",
   "mimetype": "text/x-python",
   "name": "python",
   "nbconvert_exporter": "python",
   "pygments_lexer": "ipython3",
   "version": "3.8.12"
  }
 },
 "nbformat": 4,
 "nbformat_minor": 5
}
