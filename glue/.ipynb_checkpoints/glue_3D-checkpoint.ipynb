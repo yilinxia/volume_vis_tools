{
 "cells": [
  {
   "cell_type": "code",
   "execution_count": 1,
   "id": "1b7f6575-26d4-4a02-ace8-3f84114073c5",
   "metadata": {},
   "outputs": [],
   "source": [
    "import yt\n",
    "from glue.core.data_factories import load_data\n",
    "from glue.core import DataCollection\n",
    "from glue.core.link_helpers import LinkSame\n",
    "from glue.app.qt.application import GlueApplication"
   ]
  },
  {
   "cell_type": "code",
   "execution_count": 2,
   "id": "1e954eb8-f4f8-4946-9357-b90b787d93d4",
   "metadata": {},
   "outputs": [
    {
     "name": "stderr",
     "output_type": "stream",
     "text": [
      "yt : [INFO     ] 2022-01-07 07:29:00,540 Sample dataset found in '/Users/yilinxia/Desktop/DXL/yt/IsolatedGalaxy/galaxy0030/galaxy0030'\n",
      "yt : [INFO     ] 2022-01-07 07:29:00,688 Parameters: current_time              = 0.0060000200028298\n",
      "yt : [INFO     ] 2022-01-07 07:29:00,690 Parameters: domain_dimensions         = [32 32 32]\n",
      "yt : [INFO     ] 2022-01-07 07:29:00,692 Parameters: domain_left_edge          = [0. 0. 0.]\n",
      "yt : [INFO     ] 2022-01-07 07:29:00,695 Parameters: domain_right_edge         = [1. 1. 1.]\n",
      "yt : [INFO     ] 2022-01-07 07:29:00,695 Parameters: cosmological_simulation   = 0\n",
      "Parsing Hierarchy : 100%|███████████████████| 173/173 [00:00<00:00, 8228.42it/s]\n",
      "yt : [INFO     ] 2022-01-07 07:29:00,749 Gathering a field list (this may take a moment.)\n"
     ]
    }
   ],
   "source": [
    "ds = yt.load_sample(\"IsolatedGalaxy\")\n",
    "cg = ds.r[::256j, ::256j, ::256j]\n",
    "smoothed_values = cg[\"gas\", \"density\"]"
   ]
  },
  {
   "cell_type": "code",
   "execution_count": 3,
   "id": "186186fa-edf6-41b1-b77f-ae51a803041a",
   "metadata": {},
   "outputs": [
    {
     "ename": "TypeError",
     "evalue": "Could not find a class to translate objects of type unyt_array to Data",
     "output_type": "error",
     "traceback": [
      "\u001b[0;31m---------------------------------------------------------------------------\u001b[0m",
      "\u001b[0;31mTypeError\u001b[0m                                 Traceback (most recent call last)",
      "\u001b[0;32m/var/folders/28/kcwvvd8j31n3160270pbl55c0000gn/T/ipykernel_78067/3749991459.py\u001b[0m in \u001b[0;36m<module>\u001b[0;34m\u001b[0m\n\u001b[1;32m      1\u001b[0m \u001b[0;31m# load 2 datasets from files\u001b[0m\u001b[0;34m\u001b[0m\u001b[0;34m\u001b[0m\u001b[0;34m\u001b[0m\u001b[0m\n\u001b[1;32m      2\u001b[0m \u001b[0mdc\u001b[0m \u001b[0;34m=\u001b[0m \u001b[0mDataCollection\u001b[0m\u001b[0;34m(\u001b[0m\u001b[0;34m)\u001b[0m\u001b[0;34m\u001b[0m\u001b[0;34m\u001b[0m\u001b[0m\n\u001b[0;32m----> 3\u001b[0;31m \u001b[0mdc\u001b[0m\u001b[0;34m[\u001b[0m\u001b[0;34m\"yt_data\"\u001b[0m\u001b[0;34m]\u001b[0m\u001b[0;34m=\u001b[0m \u001b[0msmoothed_values\u001b[0m\u001b[0;34m\u001b[0m\u001b[0;34m\u001b[0m\u001b[0m\n\u001b[0m\u001b[1;32m      4\u001b[0m \u001b[0;34m\u001b[0m\u001b[0m\n\u001b[1;32m      5\u001b[0m \u001b[0;31m# start Glue\u001b[0m\u001b[0;34m\u001b[0m\u001b[0;34m\u001b[0m\u001b[0;34m\u001b[0m\u001b[0m\n",
      "\u001b[0;32m~/opt/miniconda3/envs/vis_tools/lib/python3.8/site-packages/glue/core/data_collection.py\u001b[0m in \u001b[0;36m__setitem__\u001b[0;34m(self, key, data)\u001b[0m\n\u001b[1;32m    380\u001b[0m         \u001b[0;32mif\u001b[0m \u001b[0;32mnot\u001b[0m \u001b[0misinstance\u001b[0m\u001b[0;34m(\u001b[0m\u001b[0mdata\u001b[0m\u001b[0;34m,\u001b[0m \u001b[0mData\u001b[0m\u001b[0;34m)\u001b[0m\u001b[0;34m:\u001b[0m\u001b[0;34m\u001b[0m\u001b[0;34m\u001b[0m\u001b[0m\n\u001b[1;32m    381\u001b[0m \u001b[0;34m\u001b[0m\u001b[0m\n\u001b[0;32m--> 382\u001b[0;31m             \u001b[0mhandler\u001b[0m\u001b[0;34m,\u001b[0m \u001b[0mpreferred\u001b[0m \u001b[0;34m=\u001b[0m \u001b[0mdata_translator\u001b[0m\u001b[0;34m.\u001b[0m\u001b[0mget_handler_for\u001b[0m\u001b[0;34m(\u001b[0m\u001b[0mdata\u001b[0m\u001b[0;34m)\u001b[0m\u001b[0;34m\u001b[0m\u001b[0;34m\u001b[0m\u001b[0m\n\u001b[0m\u001b[1;32m    383\u001b[0m \u001b[0;34m\u001b[0m\u001b[0m\n\u001b[1;32m    384\u001b[0m             \u001b[0mdata\u001b[0m \u001b[0;34m=\u001b[0m \u001b[0mhandler\u001b[0m\u001b[0;34m.\u001b[0m\u001b[0mto_data\u001b[0m\u001b[0;34m(\u001b[0m\u001b[0mdata\u001b[0m\u001b[0;34m)\u001b[0m\u001b[0;34m\u001b[0m\u001b[0;34m\u001b[0m\u001b[0m\n",
      "\u001b[0;32m~/opt/miniconda3/envs/vis_tools/lib/python3.8/site-packages/glue/config.py\u001b[0m in \u001b[0;36mget_handler_for\u001b[0;34m(self, data_or_class)\u001b[0m\n\u001b[1;32m    564\u001b[0m                                 \"type Data to {0}\".format(data_or_class.__name__))\n\u001b[1;32m    565\u001b[0m             \u001b[0;32melse\u001b[0m\u001b[0;34m:\u001b[0m\u001b[0;34m\u001b[0m\u001b[0;34m\u001b[0m\u001b[0m\n\u001b[0;32m--> 566\u001b[0;31m                 raise TypeError(\"Could not find a class to translate objects of \"\n\u001b[0m\u001b[1;32m    567\u001b[0m                                 \"type {0} to Data\".format(data_or_class.__class__.__name__))\n\u001b[1;32m    568\u001b[0m         \u001b[0;32mreturn\u001b[0m \u001b[0mhandler\u001b[0m\u001b[0;34m,\u001b[0m \u001b[0mpreferred\u001b[0m\u001b[0;34m\u001b[0m\u001b[0;34m\u001b[0m\u001b[0m\n",
      "\u001b[0;31mTypeError\u001b[0m: Could not find a class to translate objects of type unyt_array to Data"
     ]
    }
   ],
   "source": [
    "# load 2 datasets from files\n",
    "dc = DataCollection()\n",
    "dc[\"yt_data\"]= smoothed_values\n",
    "\n",
    "# start Glue\n",
    "app = GlueApplication(dc)\n",
    "app.start()"
   ]
  }
 ],
 "metadata": {
  "kernelspec": {
   "display_name": "Python 3 (ipykernel)",
   "language": "python",
   "name": "python3"
  },
  "language_info": {
   "codemirror_mode": {
    "name": "ipython",
    "version": 3
   },
   "file_extension": ".py",
   "mimetype": "text/x-python",
   "name": "python",
   "nbconvert_exporter": "python",
   "pygments_lexer": "ipython3",
   "version": "3.8.12"
  }
 },
 "nbformat": 4,
 "nbformat_minor": 5
}
