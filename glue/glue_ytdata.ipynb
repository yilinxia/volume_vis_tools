{
 "cells": [
  {
   "cell_type": "markdown",
   "id": "f55dd9d8-e2b9-44b3-9d67-8884ec5d96f3",
   "metadata": {},
   "source": [
    "# Python Package Installation"
   ]
  },
  {
   "cell_type": "markdown",
   "id": "9cd03e9e-0702-4e07-be03-96c4b8525634",
   "metadata": {},
   "source": [
    "credit http://docs.glueviz.org/en/stable/python_guide/glue_from_python.html"
   ]
  },
  {
   "cell_type": "code",
   "execution_count": 1,
   "id": "1b7f6575-26d4-4a02-ace8-3f84114073c5",
   "metadata": {},
   "outputs": [],
   "source": [
    "import yt\n",
    "import numpy as np\n",
    "from glue.core import DataCollection\n",
    "from glue.app.qt.application import GlueApplication"
   ]
  },
  {
   "cell_type": "markdown",
   "id": "6dc105fa-1855-4d47-8c4c-1a3a8f974eb7",
   "metadata": {},
   "source": [
    "# yt Data Preparation"
   ]
  },
  {
   "cell_type": "code",
   "execution_count": 2,
   "id": "1e954eb8-f4f8-4946-9357-b90b787d93d4",
   "metadata": {},
   "outputs": [
    {
     "name": "stderr",
     "output_type": "stream",
     "text": [
      "yt : [INFO     ] 2022-01-07 08:23:52,521 Parameters: current_time              = 0.0060000200028298\n",
      "yt : [INFO     ] 2022-01-07 08:23:52,523 Parameters: domain_dimensions         = [32 32 32]\n",
      "yt : [INFO     ] 2022-01-07 08:23:52,525 Parameters: domain_left_edge          = [0. 0. 0.]\n",
      "yt : [INFO     ] 2022-01-07 08:23:52,527 Parameters: domain_right_edge         = [1. 1. 1.]\n",
      "yt : [INFO     ] 2022-01-07 08:23:52,528 Parameters: cosmological_simulation   = 0\n",
      "Parsing Hierarchy : 100%|███████████████████| 173/173 [00:00<00:00, 9727.78it/s]\n",
      "yt : [INFO     ] 2022-01-07 08:23:52,578 Gathering a field list (this may take a moment.)\n"
     ]
    }
   ],
   "source": [
    "ds = yt.load(\"IsolatedGalaxy/galaxy0030/galaxy0030\") \n",
    "cg = ds.r[::300j,::300j,::300j]\n",
    "dens_log = np.log10(cg['density'])"
   ]
  },
  {
   "cell_type": "markdown",
   "id": "a8b4e44f-c4f1-4350-aa33-16aa6906bab0",
   "metadata": {},
   "source": [
    "# Digest Data in GlueVis"
   ]
  },
  {
   "cell_type": "code",
   "execution_count": 3,
   "id": "186186fa-edf6-41b1-b77f-ae51a803041a",
   "metadata": {},
   "outputs": [
    {
     "ename": "TypeError",
     "evalue": "Could not find a class to translate objects of type ndarray to Data",
     "output_type": "error",
     "traceback": [
      "\u001b[0;31m---------------------------------------------------------------------------\u001b[0m",
      "\u001b[0;31mTypeError\u001b[0m                                 Traceback (most recent call last)",
      "\u001b[0;32m/var/folders/28/kcwvvd8j31n3160270pbl55c0000gn/T/ipykernel_79453/2485449901.py\u001b[0m in \u001b[0;36m<module>\u001b[0;34m\u001b[0m\n\u001b[1;32m      1\u001b[0m \u001b[0;31m# load 2 datasets from files\u001b[0m\u001b[0;34m\u001b[0m\u001b[0;34m\u001b[0m\u001b[0;34m\u001b[0m\u001b[0m\n\u001b[1;32m      2\u001b[0m \u001b[0mdc\u001b[0m \u001b[0;34m=\u001b[0m \u001b[0mDataCollection\u001b[0m\u001b[0;34m(\u001b[0m\u001b[0;34m)\u001b[0m\u001b[0;34m\u001b[0m\u001b[0;34m\u001b[0m\u001b[0m\n\u001b[0;32m----> 3\u001b[0;31m \u001b[0mdc\u001b[0m\u001b[0;34m[\u001b[0m\u001b[0;34m\"yt_data\"\u001b[0m\u001b[0;34m]\u001b[0m\u001b[0;34m=\u001b[0m \u001b[0mdens_log\u001b[0m\u001b[0;34m\u001b[0m\u001b[0;34m\u001b[0m\u001b[0m\n\u001b[0m",
      "\u001b[0;32m~/opt/miniconda3/envs/vis_tools/lib/python3.8/site-packages/glue/core/data_collection.py\u001b[0m in \u001b[0;36m__setitem__\u001b[0;34m(self, key, data)\u001b[0m\n\u001b[1;32m    397\u001b[0m         \u001b[0;32mif\u001b[0m \u001b[0;32mnot\u001b[0m \u001b[0misinstance\u001b[0m\u001b[0;34m(\u001b[0m\u001b[0mdata\u001b[0m\u001b[0;34m,\u001b[0m \u001b[0mData\u001b[0m\u001b[0;34m)\u001b[0m\u001b[0;34m:\u001b[0m\u001b[0;34m\u001b[0m\u001b[0;34m\u001b[0m\u001b[0m\n\u001b[1;32m    398\u001b[0m \u001b[0;34m\u001b[0m\u001b[0m\n\u001b[0;32m--> 399\u001b[0;31m             \u001b[0mhandler\u001b[0m\u001b[0;34m,\u001b[0m \u001b[0mpreferred\u001b[0m \u001b[0;34m=\u001b[0m \u001b[0mdata_translator\u001b[0m\u001b[0;34m.\u001b[0m\u001b[0mget_handler_for\u001b[0m\u001b[0;34m(\u001b[0m\u001b[0mdata\u001b[0m\u001b[0;34m)\u001b[0m\u001b[0;34m\u001b[0m\u001b[0;34m\u001b[0m\u001b[0m\n\u001b[0m\u001b[1;32m    400\u001b[0m \u001b[0;34m\u001b[0m\u001b[0m\n\u001b[1;32m    401\u001b[0m             \u001b[0mdata\u001b[0m \u001b[0;34m=\u001b[0m \u001b[0mhandler\u001b[0m\u001b[0;34m.\u001b[0m\u001b[0mto_data\u001b[0m\u001b[0;34m(\u001b[0m\u001b[0mdata\u001b[0m\u001b[0;34m)\u001b[0m\u001b[0;34m\u001b[0m\u001b[0;34m\u001b[0m\u001b[0m\n",
      "\u001b[0;32m~/opt/miniconda3/envs/vis_tools/lib/python3.8/site-packages/glue/config.py\u001b[0m in \u001b[0;36mget_handler_for\u001b[0;34m(self, data_or_class)\u001b[0m\n\u001b[1;32m    564\u001b[0m                                 \"type Data to {0}\".format(data_or_class.__name__))\n\u001b[1;32m    565\u001b[0m             \u001b[0;32melse\u001b[0m\u001b[0;34m:\u001b[0m\u001b[0;34m\u001b[0m\u001b[0;34m\u001b[0m\u001b[0m\n\u001b[0;32m--> 566\u001b[0;31m                 raise TypeError(\"Could not find a class to translate objects of \"\n\u001b[0m\u001b[1;32m    567\u001b[0m                                 \"type {0} to Data\".format(data_or_class.__class__.__name__))\n\u001b[1;32m    568\u001b[0m         \u001b[0;32mreturn\u001b[0m \u001b[0mhandler\u001b[0m\u001b[0;34m,\u001b[0m \u001b[0mpreferred\u001b[0m\u001b[0;34m\u001b[0m\u001b[0;34m\u001b[0m\u001b[0m\n",
      "\u001b[0;31mTypeError\u001b[0m: Could not find a class to translate objects of type ndarray to Data"
     ]
    }
   ],
   "source": [
    "# load 2 datasets from files\n",
    "dc = DataCollection()\n",
    "dc[\"yt_data\"]= dens_log"
   ]
  },
  {
   "cell_type": "code",
   "execution_count": null,
   "id": "c50874a0-cbac-43be-85b3-422d5af95724",
   "metadata": {},
   "outputs": [],
   "source": [
    "# start Glue\n",
    "app = GlueApplication(dc)\n",
    "app.start()"
   ]
  }
 ],
 "metadata": {
  "kernelspec": {
   "display_name": "Python 3 (ipykernel)",
   "language": "python",
   "name": "python3"
  },
  "language_info": {
   "codemirror_mode": {
    "name": "ipython",
    "version": 3
   },
   "file_extension": ".py",
   "mimetype": "text/x-python",
   "name": "python",
   "nbconvert_exporter": "python",
   "pygments_lexer": "ipython3",
   "version": "3.8.12"
  }
 },
 "nbformat": 4,
 "nbformat_minor": 5
}
