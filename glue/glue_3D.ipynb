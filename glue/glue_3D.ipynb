{
 "cells": [
  {
   "cell_type": "markdown",
   "id": "f1d25450-cf25-4ed7-b30c-9149827ec751",
   "metadata": {},
   "source": [
    "credit: https://github.com/glue-viz/glue-vispy-viewers"
   ]
  },
  {
   "cell_type": "code",
   "execution_count": 1,
   "id": "1e954eb8-f4f8-4946-9357-b90b787d93d4",
   "metadata": {},
   "outputs": [
    {
     "name": "stdout",
     "output_type": "stream",
     "text": [
      "\u001b[1m============================= test session starts ==============================\u001b[0m\n",
      "platform darwin -- Python 3.8.12, pytest-6.2.5, py-1.11.0, pluggy-1.0.0\n",
      "rootdir: /Users/yilinxia/Jupyter/Grammar_vis/glue/glue-vispy-viewers, configfile: pytest.ini\n",
      "plugins: anyio-3.4.0\n",
      "collected 18 items / 4 errors / 14 selected                                    \u001b[0m\u001b[1m\n",
      "\n",
      "==================================== ERRORS ====================================\n",
      "\u001b[31m\u001b[1m____ ERROR collecting glue_vispy_viewers/common/tests/test_vispy_toolbar.py ____\u001b[0m\n",
      "\u001b[31mImportError while importing test module '/Users/yilinxia/Jupyter/Grammar_vis/glue/glue-vispy-viewers/glue_vispy_viewers/common/tests/test_vispy_toolbar.py'.\n",
      "Hint: make sure your test modules/packages have valid Python names.\n",
      "Traceback:\n",
      "../../../../opt/miniconda3/envs/vis_tools/lib/python3.8/importlib/__init__.py:127: in import_module\n",
      "    return _bootstrap._gcd_import(name[level:], package, level)\n",
      "glue_vispy_viewers/common/tests/test_vispy_toolbar.py:6: in <module>\n",
      "    from mock import patch\n",
      "E   ModuleNotFoundError: No module named 'mock'\u001b[0m\n",
      "\u001b[31m\u001b[1m____ ERROR collecting glue_vispy_viewers/common/tests/test_vispy_viewer.py _____\u001b[0m\n",
      "\u001b[31mImportError while importing test module '/Users/yilinxia/Jupyter/Grammar_vis/glue/glue-vispy-viewers/glue_vispy_viewers/common/tests/test_vispy_viewer.py'.\n",
      "Hint: make sure your test modules/packages have valid Python names.\n",
      "Traceback:\n",
      "../../../../opt/miniconda3/envs/vis_tools/lib/python3.8/importlib/__init__.py:127: in import_module\n",
      "    return _bootstrap._gcd_import(name[level:], package, level)\n",
      "glue_vispy_viewers/common/tests/test_vispy_viewer.py:4: in <module>\n",
      "    from mock import patch\n",
      "E   ModuleNotFoundError: No module named 'mock'\u001b[0m\n",
      "\u001b[31m\u001b[1m_ ERROR collecting glue_vispy_viewers/isosurface/tests/test_isosurface_viewer.py _\u001b[0m\n",
      "\u001b[31mImportError while importing test module '/Users/yilinxia/Jupyter/Grammar_vis/glue/glue-vispy-viewers/glue_vispy_viewers/isosurface/tests/test_isosurface_viewer.py'.\n",
      "Hint: make sure your test modules/packages have valid Python names.\n",
      "Traceback:\n",
      "../../../../opt/miniconda3/envs/vis_tools/lib/python3.8/importlib/__init__.py:127: in import_module\n",
      "    return _bootstrap._gcd_import(name[level:], package, level)\n",
      "glue_vispy_viewers/isosurface/tests/test_isosurface_viewer.py:7: in <module>\n",
      "    from ..isosurface_viewer import VispyIsosurfaceViewer\n",
      "glue_vispy_viewers/isosurface/isosurface_viewer.py:2: in <module>\n",
      "    from .layer_artist import IsosurfaceLayerArtist\n",
      "glue_vispy_viewers/isosurface/layer_artist.py:12: in <module>\n",
      "    from .multi_iso_visual import MultiIsoVisual\n",
      "glue_vispy_viewers/isosurface/multi_iso_visual.py:45: in <module>\n",
      "    from vispy.visuals.volume import VERT_SHADER, frag_dict\n",
      "E   ImportError: cannot import name 'VERT_SHADER' from 'vispy.visuals.volume' (/Users/yilinxia/opt/miniconda3/envs/vis_tools/lib/python3.8/site-packages/vispy/visuals/volume.py)\u001b[0m\n",
      "\u001b[31m\u001b[1m____ ERROR collecting glue_vispy_viewers/tests/test_session_back_compat.py _____\u001b[0m\n",
      "\u001b[31mImportError while importing test module '/Users/yilinxia/Jupyter/Grammar_vis/glue/glue-vispy-viewers/glue_vispy_viewers/tests/test_session_back_compat.py'.\n",
      "Hint: make sure your test modules/packages have valid Python names.\n",
      "Traceback:\n",
      "../../../../opt/miniconda3/envs/vis_tools/lib/python3.8/importlib/__init__.py:127: in import_module\n",
      "    return _bootstrap._gcd_import(name[level:], package, level)\n",
      "glue_vispy_viewers/tests/test_session_back_compat.py:5: in <module>\n",
      "    from mock import patch\n",
      "E   ModuleNotFoundError: No module named 'mock'\u001b[0m\n",
      "\u001b[33m=============================== warnings summary ===============================\u001b[0m\n",
      "../../../../opt/miniconda3/envs/vis_tools/lib/python3.8/site-packages/glue/config.py:2\n",
      "  /Users/yilinxia/opt/miniconda3/envs/vis_tools/lib/python3.8/site-packages/glue/config.py:2: DeprecationWarning: the imp module is deprecated in favour of importlib; see the module's documentation for alternative uses\n",
      "    import imp\n",
      "\n",
      "../../../../opt/miniconda3/envs/vis_tools/lib/python3.8/site-packages/astropy/version.py:26\n",
      "  /Users/yilinxia/opt/miniconda3/envs/vis_tools/lib/python3.8/site-packages/astropy/version.py:26: DeprecationWarning: distutils Version classes are deprecated. Use packaging.version instead.\n",
      "    for j, piece in enumerate(LooseVersion(version).version[:3]):\n",
      "\n",
      "../../../../opt/miniconda3/envs/vis_tools/lib/python3.8/site-packages/glue/viewers/histogram/python_export.py:8\n",
      "  /Users/yilinxia/opt/miniconda3/envs/vis_tools/lib/python3.8/site-packages/glue/viewers/histogram/python_export.py:8: DeprecationWarning: distutils Version classes are deprecated. Use packaging.version instead.\n",
      "    MATPLOTLIB_GE_30 = LooseVersion(__version__) > '3'\n",
      "\n",
      "../../../../opt/miniconda3/envs/vis_tools/lib/python3.8/site-packages/setuptools/_distutils/version.py:351\n",
      "  /Users/yilinxia/opt/miniconda3/envs/vis_tools/lib/python3.8/site-packages/setuptools/_distutils/version.py:351: DeprecationWarning: distutils Version classes are deprecated. Use packaging.version instead.\n",
      "    other = LooseVersion(other)\n",
      "\n",
      "../../../../opt/miniconda3/envs/vis_tools/lib/python3.8/site-packages/glue/tests/helpers.py:17\n",
      "../../../../opt/miniconda3/envs/vis_tools/lib/python3.8/site-packages/glue/tests/helpers.py:17\n",
      "  /Users/yilinxia/opt/miniconda3/envs/vis_tools/lib/python3.8/site-packages/glue/tests/helpers.py:17: DeprecationWarning: distutils Version classes are deprecated. Use packaging.version instead.\n",
      "    assert LooseVersion(mod.__version__) >= LooseVersion(version)\n",
      "\n",
      "glue_vispy_viewers/volume/volume_visual.py:53\n",
      "glue_vispy_viewers/volume/volume_visual.py:53\n",
      "  /Users/yilinxia/Jupyter/Grammar_vis/glue/glue-vispy-viewers/glue_vispy_viewers/volume/volume_visual.py:53: DeprecationWarning: distutils Version classes are deprecated. Use packaging.version instead.\n",
      "    NUMPY_LT_1_13 = LooseVersion(np.__version__) < LooseVersion('1.13')\n",
      "\n",
      "-- Docs: https://docs.pytest.org/en/stable/warnings.html\n",
      "=========================== short test summary info ============================\n",
      "ERROR glue_vispy_viewers/common/tests/test_vispy_toolbar.py\n",
      "ERROR glue_vispy_viewers/common/tests/test_vispy_viewer.py\n",
      "ERROR glue_vispy_viewers/isosurface/tests/test_isosurface_viewer.py\n",
      "ERROR glue_vispy_viewers/tests/test_session_back_compat.py\n",
      "!!!!!!!!!!!!!!!!!!! Interrupted: 4 errors during collection !!!!!!!!!!!!!!!!!!!!\n",
      "\u001b[31m======================== \u001b[33m8 warnings\u001b[0m, \u001b[31m\u001b[1m4 errors\u001b[0m\u001b[31m in 1.43s\u001b[0m\u001b[31m =========================\u001b[0m\n"
     ]
    }
   ],
   "source": [
    "!cd glue-vispy-viewers/ && py.test glue_vispy_viewers"
   ]
  }
 ],
 "metadata": {
  "kernelspec": {
   "display_name": "Python 3 (ipykernel)",
   "language": "python",
   "name": "python3"
  },
  "language_info": {
   "codemirror_mode": {
    "name": "ipython",
    "version": 3
   },
   "file_extension": ".py",
   "mimetype": "text/x-python",
   "name": "python",
   "nbconvert_exporter": "python",
   "pygments_lexer": "ipython3",
   "version": "3.8.12"
  }
 },
 "nbformat": 4,
 "nbformat_minor": 5
}
