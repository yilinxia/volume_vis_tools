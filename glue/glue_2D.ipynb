{
 "cells": [
  {
   "cell_type": "markdown",
   "id": "1299a841-1811-4ab5-88af-ad2a71c3b254",
   "metadata": {},
   "source": [
    "# Package Installation"
   ]
  },
  {
   "cell_type": "markdown",
   "id": "f9c651a9-437c-464f-9002-d9f86abac02a",
   "metadata": {},
   "source": [
    "credit http://docs.glueviz.org/en/stable/python_guide/glue_from_python.html"
   ]
  },
  {
   "cell_type": "code",
   "execution_count": 1,
   "id": "1b7f6575-26d4-4a02-ace8-3f84114073c5",
   "metadata": {},
   "outputs": [],
   "source": [
    "from glue.core.data_factories import load_data\n",
    "from glue.core import DataCollection\n",
    "from glue.core.link_helpers import LinkSame\n",
    "from glue.app.qt.application import GlueApplication"
   ]
  },
  {
   "cell_type": "markdown",
   "id": "b5be05cb-18d7-460d-98e9-e771bbf1fb37",
   "metadata": {},
   "source": [
    "# Load Data"
   ]
  },
  {
   "cell_type": "code",
   "execution_count": 2,
   "id": "1e954eb8-f4f8-4946-9357-b90b787d93d4",
   "metadata": {},
   "outputs": [],
   "source": [
    "# load 2 datasets from files\n",
    "image = load_data('w5/w5.fits')\n",
    "catalog = load_data('w5/w5_psc.vot')\n",
    "dc = DataCollection([image, catalog])"
   ]
  },
  {
   "cell_type": "markdown",
   "id": "a4cef10d-3eee-46ee-ad68-db51774df661",
   "metadata": {},
   "source": [
    "# Link Data"
   ]
  },
  {
   "cell_type": "code",
   "execution_count": 3,
   "id": "a1820a3c-0753-44c5-ace8-ccfd4371c500",
   "metadata": {},
   "outputs": [],
   "source": [
    "# link positional information\n",
    "dc.add_link(LinkSame(image.id['Right Ascension'], catalog.id['RAJ2000']))\n",
    "dc.add_link(LinkSame(image.id['Declination'], catalog.id['DEJ2000']))"
   ]
  },
  {
   "cell_type": "markdown",
   "id": "5f317ed8-34a0-4f97-8f53-26a97cfef284",
   "metadata": {},
   "source": [
    "# Start Glue"
   ]
  },
  {
   "cell_type": "code",
   "execution_count": 4,
   "id": "adab6fd7-132f-445e-8c7b-af2942c0c640",
   "metadata": {},
   "outputs": [
    {
     "data": {
      "text/plain": [
       "0"
      ]
     },
     "execution_count": 4,
     "metadata": {},
     "output_type": "execute_result"
    }
   ],
   "source": [
    "# start Glue\n",
    "app = GlueApplication(dc)\n",
    "app.start()"
   ]
  }
 ],
 "metadata": {
  "kernelspec": {
   "display_name": "Python 3 (ipykernel)",
   "language": "python",
   "name": "python3"
  },
  "language_info": {
   "codemirror_mode": {
    "name": "ipython",
    "version": 3
   },
   "file_extension": ".py",
   "mimetype": "text/x-python",
   "name": "python",
   "nbconvert_exporter": "python",
   "pygments_lexer": "ipython3",
   "version": "3.8.12"
  }
 },
 "nbformat": 4,
 "nbformat_minor": 5
}
