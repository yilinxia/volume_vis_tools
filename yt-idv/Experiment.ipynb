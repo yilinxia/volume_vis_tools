{
 "cells": [
  {
   "cell_type": "code",
   "execution_count": 1,
   "id": "discrete-junction",
   "metadata": {},
   "outputs": [
    {
     "name": "stderr",
     "output_type": "stream",
     "text": [
      "yt : [INFO     ] 2022-01-07 08:48:03,054 Sample dataset found in '/Users/yilinxia/Desktop/DXL/yt/IsolatedGalaxy/galaxy0030/galaxy0030'\n",
      "yt : [INFO     ] 2022-01-07 08:48:03,203 Parameters: current_time              = 0.0060000200028298\n",
      "yt : [INFO     ] 2022-01-07 08:48:03,205 Parameters: domain_dimensions         = [32 32 32]\n",
      "yt : [INFO     ] 2022-01-07 08:48:03,207 Parameters: domain_left_edge          = [0. 0. 0.]\n",
      "yt : [INFO     ] 2022-01-07 08:48:03,209 Parameters: domain_right_edge         = [1. 1. 1.]\n",
      "yt : [INFO     ] 2022-01-07 08:48:03,210 Parameters: cosmological_simulation   = 0\n"
     ]
    },
    {
     "name": "stdout",
     "output_type": "stream",
     "text": [
      "Setting position 208.0 0\n"
     ]
    },
    {
     "name": "stderr",
     "output_type": "stream",
     "text": [
      "Parsing Hierarchy : 100%|██████████████████| 173/173 [00:00<00:00, 11420.71it/s]\n",
      "yt : [INFO     ] 2022-01-07 08:48:04,170 Gathering a field list (this may take a moment.)\n"
     ]
    },
    {
     "name": "stdout",
     "output_type": "stream",
     "text": [
      "Computed new cmap values 4.354178173571199e-08 - 0.5526295304298401\n"
     ]
    },
    {
     "name": "stderr",
     "output_type": "stream",
     "text": [
      "2022-01-07 08:48:11.341 python[79562:10907153] Warning: Expected min height of view: (<NSPopoverTouchBarItemButton: 0x7f869723ade0>) to be less than or equal to 30 but got a height of 32.000000. This error will be logged once per view in violation.\n",
      "2022-01-07 08:48:11.341 python[79562:10907153] Warning: Expected min height of view: (<NSButton: 0x7f8697250a20>) to be less than or equal to 30 but got a height of 32.000000. This error will be logged once per view in violation.\n",
      "2022-01-07 08:48:11.344 python[79562:10907153] Warning: Expected min height of view: (<NSPopoverTouchBarItemButton: 0x7f86972544b0>) to be less than or equal to 30 but got a height of 32.000000. This error will be logged once per view in violation.\n",
      "2022-01-07 08:48:11.345 python[79562:10907153] Warning: Expected min height of view: (<NSPopoverTouchBarItemButton: 0x7f86adc22d90>) to be less than or equal to 30 but got a height of 32.000000. This error will be logged once per view in violation.\n"
     ]
    }
   ],
   "source": [
    "import yt\n",
    "import yt_idv\n",
    "\n",
    "ds = yt.load_sample(\"IsolatedGalaxy\")\n",
    "rc = yt_idv.render_context()\n",
    "rc.add_scene(ds, \"density\",no_ghost=True)\n",
    "rc.run()"
   ]
  }
 ],
 "metadata": {
  "kernelspec": {
   "display_name": "Python 3 (ipykernel)",
   "language": "python",
   "name": "python3"
  },
  "language_info": {
   "codemirror_mode": {
    "name": "ipython",
    "version": 3
   },
   "file_extension": ".py",
   "mimetype": "text/x-python",
   "name": "python",
   "nbconvert_exporter": "python",
   "pygments_lexer": "ipython3",
   "version": "3.8.12"
  },
  "toc": {
   "base_numbering": 1,
   "nav_menu": {},
   "number_sections": true,
   "sideBar": true,
   "skip_h1_title": false,
   "title_cell": "Table of Contents",
   "title_sidebar": "Contents",
   "toc_cell": false,
   "toc_position": {},
   "toc_section_display": true,
   "toc_window_display": false
  }
 },
 "nbformat": 4,
 "nbformat_minor": 5
}
