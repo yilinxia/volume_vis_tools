{
 "cells": [
  {
   "cell_type": "markdown",
   "id": "18fabcf6-7b5c-46fd-b6c6-1ebf48cc8143",
   "metadata": {},
   "source": [
    "# Loading Packages"
   ]
  },
  {
   "cell_type": "code",
   "execution_count": null,
   "id": "e8df5ed0-6244-458e-90bb-07be4cc985a4",
   "metadata": {},
   "outputs": [],
   "source": [
    "import numpy as np\n",
    "import yt\n",
    "import scenepic\n",
    "from sklearn.preprocessing import MinMaxScaler"
   ]
  },
  {
   "cell_type": "markdown",
   "id": "7d7da3db-d0ae-482a-8159-2a567c9585c2",
   "metadata": {},
   "source": [
    "# Scenepic Tutorial"
   ]
  },
  {
   "cell_type": "code",
   "execution_count": null,
   "id": "8f0678a6-b325-48f6-8063-51344ed17a94",
   "metadata": {},
   "outputs": [],
   "source": [
    "# Refer scenepic tutorial\n",
    "# Create a scene\n",
    "scene = scenepic.Scene()\n",
    "\n",
    "# Create a mesh that we'll turn in to a point-cloud using enable_instancing()\n",
    "mesh = scene.create_mesh(shared_color = scenepic.Color(0,1,0))\n",
    "mesh.add_cube() # Unit diameter cube that will act as primitive\n",
    "mesh.apply_transform(scenepic.Transforms.Scale(0.01)) # Scale the primitive\n",
    "mesh.enable_instancing(positions = 2 * np.random.rand(10000, 3) - 1) # Cause the mesh to be replicated across many instances with the provided translations.  You can optionally also provide per-instance colors and quaternion rotations.\n",
    "\n",
    "# Create Canvas and Frame, and add Mesh to Frame\n",
    "canvas = scene.create_canvas_3d(width = 300, height = 300, shading=scenepic.Shading(bg_color=scenepic.Colors.White))\n",
    "frame = canvas.create_frame()\n",
    "frame.add_mesh(mesh)\n",
    "\n",
    "scene"
   ]
  },
  {
   "cell_type": "code",
   "execution_count": null,
   "id": "01b689a5-ccd9-4996-8ff9-75b367be2c1d",
   "metadata": {},
   "outputs": [],
   "source": [
    "positions = 2 * np.random.rand(10000, 3) - 1\n",
    "positions  ## get the information of the instance"
   ]
  },
  {
   "cell_type": "code",
   "execution_count": null,
   "id": "5d5aaa06-a4bc-4596-baf8-953d290fa59b",
   "metadata": {},
   "outputs": [],
   "source": [
    "positions.shape # instance shape"
   ]
  },
  {
   "cell_type": "markdown",
   "id": "65193a7f-0424-405e-8d05-bf5c1f95f7e1",
   "metadata": {},
   "source": [
    "# yt2sp"
   ]
  },
  {
   "cell_type": "markdown",
   "id": "36905307",
   "metadata": {},
   "source": [
    "In this section, we tried to use scenepic to visualize isolatedgalaxy data from yt\n",
    "### yt data loading"
   ]
  },
  {
   "cell_type": "code",
   "execution_count": null,
   "id": "ec8f8471-cec5-4960-802c-73fd6acdc6bf",
   "metadata": {},
   "outputs": [],
   "source": [
    "ds = yt.load(\"IsolatedGalaxy/galaxy0030/galaxy0030\")"
   ]
  },
  {
   "cell_type": "code",
   "execution_count": null,
   "id": "030788b4-9c2d-402f-85fb-8417659052bc",
   "metadata": {},
   "outputs": [],
   "source": [
    "# print(dir(ds.fields.gas))"
   ]
  },
  {
   "cell_type": "code",
   "execution_count": null,
   "id": "078254b6-2b56-4d95-bb93-5acc72c52924",
   "metadata": {},
   "outputs": [],
   "source": [
    "ds_x=ds.r[\"gas\", \"x\"]\n",
    "ds_y=ds.r[\"gas\", \"y\"]\n",
    "ds_z=ds.r[\"gas\", \"z\"]"
   ]
  },
  {
   "cell_type": "code",
   "execution_count": null,
   "id": "8b764cfe",
   "metadata": {},
   "outputs": [],
   "source": [
    "# temp_ls=[]\n",
    "# for i in new_positions:\n",
    "#     for j in i:\n",
    "#         if(type(j))==np.float64:\n",
    "#             temp_ls.append(j)"
   ]
  },
  {
   "cell_type": "markdown",
   "id": "b6828f2d-832d-4af9-a5c0-e7498013572e",
   "metadata": {},
   "source": [
    "### data normalizing"
   ]
  },
  {
   "cell_type": "code",
   "execution_count": null,
   "id": "65f2ee17-29c2-4262-9850-566997614008",
   "metadata": {},
   "outputs": [],
   "source": [
    "data_3d=np.transpose([ds_x,ds_y,ds_z])  ## combine three arrays into one\n",
    "data_3d.shape"
   ]
  },
  {
   "cell_type": "code",
   "execution_count": null,
   "id": "cc53f19a-fe5f-4f42-b578-5dbc3c474841",
   "metadata": {},
   "outputs": [],
   "source": [
    "scaler = MinMaxScaler()\n",
    "scaler.fit(data_3d)\n",
    "data_3d_nm=scaler.transform(data_3d)"
   ]
  },
  {
   "cell_type": "code",
   "execution_count": null,
   "id": "88548b02-2c3e-4a1d-8c2b-521990c1625c",
   "metadata": {},
   "outputs": [],
   "source": [
    "# data_input=data_3d_nm[0:10000]   ## since the whole dataset would cause crash, here we just take the first 10000 data points"
   ]
  },
  {
   "cell_type": "code",
   "execution_count": null,
   "id": "063216fa-5594-435e-afcd-f495ae378482",
   "metadata": {},
   "outputs": [],
   "source": [
    "# data_input.shape"
   ]
  },
  {
   "cell_type": "code",
   "execution_count": null,
   "id": "f349e64e-79ff-4244-a8c2-192b573ab6e8",
   "metadata": {},
   "outputs": [],
   "source": [
    "# data_input"
   ]
  },
  {
   "cell_type": "markdown",
   "id": "0ecd5503-f02e-4456-b13e-aba42334c5ff",
   "metadata": {},
   "source": [
    "### visualize the yt data"
   ]
  },
  {
   "cell_type": "code",
   "execution_count": null,
   "id": "658a1a95-a212-4398-a218-11e8c01dbb65",
   "metadata": {},
   "outputs": [],
   "source": [
    "# Create a scene\n",
    "scene = scenepic.Scene()\n",
    "\n",
    "# Create a mesh that we'll turn in to a point-cloud using enable_instancing()\n",
    "mesh = scene.create_mesh(shared_color = scenepic.Color(0,1,0))\n",
    "mesh.add_cube() # Unit diameter cube that will act as primitive\n",
    "mesh.apply_transform(scenepic.Transforms.Scale(0.01)) # Scale the primitive\n",
    "mesh.enable_instancing(positions = data_3d_nm) # Cause the mesh to be replicated across many instances with the provided translations.  You can optionally also provide per-instance colors and quaternion rotations.\n",
    "\n",
    "# Create Canvas and Frame, and add Mesh to Frame\n",
    "canvas = scene.create_canvas_3d(width = 300, height = 300, shading=scenepic.Shading(bg_color=scenepic.Colors.White))\n",
    "frame = canvas.create_frame()\n",
    "frame.add_mesh(mesh)\n",
    "\n",
    "scene"
   ]
  },
  {
   "cell_type": "code",
   "execution_count": null,
   "id": "7e7aad4b-8623-4e32-885b-298cd0abf137",
   "metadata": {},
   "outputs": [],
   "source": []
  }
 ],
 "metadata": {
  "kernelspec": {
   "display_name": "Python 3",
   "language": "python",
   "name": "python3"
  },
  "language_info": {
   "codemirror_mode": {
    "name": "ipython",
    "version": 3
   },
   "file_extension": ".py",
   "mimetype": "text/x-python",
   "name": "python",
   "nbconvert_exporter": "python",
   "pygments_lexer": "ipython3",
   "version": "3.8.8"
  },
  "toc": {
   "base_numbering": 1,
   "nav_menu": {},
   "number_sections": true,
   "sideBar": true,
   "skip_h1_title": false,
   "title_cell": "Table of Contents",
   "title_sidebar": "Contents",
   "toc_cell": false,
   "toc_position": {},
   "toc_section_display": true,
   "toc_window_display": false
  }
 },
 "nbformat": 4,
 "nbformat_minor": 5
}
