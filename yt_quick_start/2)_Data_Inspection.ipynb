{
 "cells": [
  {
   "cell_type": "markdown",
   "metadata": {},
   "source": [
    "# Starting Out and Loading Data\n",
    "\n",
    "We're going to get started by loading up yt.  This next command brings all of the libraries into memory and sets up our environment."
   ]
  },
  {
   "cell_type": "code",
   "execution_count": 1,
   "metadata": {
    "collapsed": false,
    "jupyter": {
     "outputs_hidden": false
    }
   },
   "outputs": [],
   "source": [
    "import yt"
   ]
  },
  {
   "cell_type": "markdown",
   "metadata": {},
   "source": [
    "Now that we've loaded yt, we can load up some data.  Let's load the `IsolatedGalaxy` dataset."
   ]
  },
  {
   "cell_type": "code",
   "execution_count": 2,
   "metadata": {
    "collapsed": false,
    "jupyter": {
     "outputs_hidden": false
    }
   },
   "outputs": [
    {
     "name": "stderr",
     "output_type": "stream",
     "text": [
      "yt : [INFO     ] 2021-06-24 11:20:03,551 Sample dataset found in '/Users/yilinxia/Desktop/DXL/yt/IsolatedGalaxy'\n",
      "yt : [INFO     ] 2021-06-24 11:20:03,637 Parameters: current_time              = 0.0060000200028298\n",
      "yt : [INFO     ] 2021-06-24 11:20:03,637 Parameters: domain_dimensions         = [32 32 32]\n",
      "yt : [INFO     ] 2021-06-24 11:20:03,638 Parameters: domain_left_edge          = [0. 0. 0.]\n",
      "yt : [INFO     ] 2021-06-24 11:20:03,639 Parameters: domain_right_edge         = [1. 1. 1.]\n",
      "yt : [INFO     ] 2021-06-24 11:20:03,639 Parameters: cosmological_simulation   = 0\n"
     ]
    }
   ],
   "source": [
    "ds = yt.load_sample(\"IsolatedGalaxy\")"
   ]
  },
  {
   "cell_type": "markdown",
   "metadata": {},
   "source": [
    "## Fields and Facts\n",
    "\n",
    "When you call the `load` function, yt tries to do very little -- this is designed to be a fast operation, just setting up some information about the simulation.  Now, the first time you access the \"index\" it will read and load the mesh and then determine where data is placed in the physical domain and on disk.  Once it knows that, yt can tell you some statistics about the simulation:"
   ]
  },
  {
   "cell_type": "code",
   "execution_count": 3,
   "metadata": {
    "collapsed": false,
    "jupyter": {
     "outputs_hidden": false
    }
   },
   "outputs": [
    {
     "name": "stderr",
     "output_type": "stream",
     "text": [
      "Parsing Hierarchy :  99%|█████████▉| 172/173 [00:00<00:00, 8012.31it/s]\n",
      "yt : [INFO     ] 2021-06-24 11:20:03,709 Gathering a field list (this may take a moment.)\n"
     ]
    },
    {
     "name": "stdout",
     "output_type": "stream",
     "text": [
      "level\t# grids\t       # cells\t     # cells^3\n",
      "----------------------------------------------\n",
      "  0\t     1\t         32768\t            32\n",
      "  1\t     8\t         34304\t            33\n",
      "  2\t     8\t        181888\t            57\n",
      "  3\t     8\t        646968\t            87\n",
      "  4\t    15\t        947856\t            99\n",
      "  5\t    51\t        874128\t            96\n",
      "  6\t    18\t        786328\t            93\n",
      "  7\t    28\t        446776\t            77\n",
      "  8\t    36\t        209400\t            60\n",
      "----------------------------------------------\n",
      "   \t   173\t       4160416\n",
      "\n",
      "\n",
      "t = 6.00002000e-03 = 1.39768066e+16 s = 4.42898275e+08 years\n",
      "\n",
      "Smallest Cell:\n",
      "\tWidth: 1.221e-04 Mpc Mpc\n",
      "\tWidth: 1.221e+02 pc pc\n",
      "\tWidth: 2.518e+07 AU AU\n",
      "\tWidth: 3.767e+20 cm cm\n"
     ]
    }
   ],
   "source": [
    "ds.print_stats()"
   ]
  },
  {
   "cell_type": "code",
   "execution_count": 4,
   "metadata": {},
   "outputs": [
    {
     "name": "stdout",
     "output_type": "stream",
     "text": [
      "Help on list object:\n",
      "\n",
      "class list(object)\n",
      " |  list(iterable=(), /)\n",
      " |  \n",
      " |  Built-in mutable sequence.\n",
      " |  \n",
      " |  If no argument is given, the constructor creates a new empty list.\n",
      " |  The argument must be an iterable if specified.\n",
      " |  \n",
      " |  Methods defined here:\n",
      " |  \n",
      " |  __add__(self, value, /)\n",
      " |      Return self+value.\n",
      " |  \n",
      " |  __contains__(self, key, /)\n",
      " |      Return key in self.\n",
      " |  \n",
      " |  __delitem__(self, key, /)\n",
      " |      Delete self[key].\n",
      " |  \n",
      " |  __eq__(self, value, /)\n",
      " |      Return self==value.\n",
      " |  \n",
      " |  __ge__(self, value, /)\n",
      " |      Return self>=value.\n",
      " |  \n",
      " |  __getattribute__(self, name, /)\n",
      " |      Return getattr(self, name).\n",
      " |  \n",
      " |  __getitem__(...)\n",
      " |      x.__getitem__(y) <==> x[y]\n",
      " |  \n",
      " |  __gt__(self, value, /)\n",
      " |      Return self>value.\n",
      " |  \n",
      " |  __iadd__(self, value, /)\n",
      " |      Implement self+=value.\n",
      " |  \n",
      " |  __imul__(self, value, /)\n",
      " |      Implement self*=value.\n",
      " |  \n",
      " |  __init__(self, /, *args, **kwargs)\n",
      " |      Initialize self.  See help(type(self)) for accurate signature.\n",
      " |  \n",
      " |  __iter__(self, /)\n",
      " |      Implement iter(self).\n",
      " |  \n",
      " |  __le__(self, value, /)\n",
      " |      Return self<=value.\n",
      " |  \n",
      " |  __len__(self, /)\n",
      " |      Return len(self).\n",
      " |  \n",
      " |  __lt__(self, value, /)\n",
      " |      Return self<value.\n",
      " |  \n",
      " |  __mul__(self, value, /)\n",
      " |      Return self*value.\n",
      " |  \n",
      " |  __ne__(self, value, /)\n",
      " |      Return self!=value.\n",
      " |  \n",
      " |  __repr__(self, /)\n",
      " |      Return repr(self).\n",
      " |  \n",
      " |  __reversed__(self, /)\n",
      " |      Return a reverse iterator over the list.\n",
      " |  \n",
      " |  __rmul__(self, value, /)\n",
      " |      Return value*self.\n",
      " |  \n",
      " |  __setitem__(self, key, value, /)\n",
      " |      Set self[key] to value.\n",
      " |  \n",
      " |  __sizeof__(self, /)\n",
      " |      Return the size of the list in memory, in bytes.\n",
      " |  \n",
      " |  append(self, object, /)\n",
      " |      Append object to the end of the list.\n",
      " |  \n",
      " |  clear(self, /)\n",
      " |      Remove all items from list.\n",
      " |  \n",
      " |  copy(self, /)\n",
      " |      Return a shallow copy of the list.\n",
      " |  \n",
      " |  count(self, value, /)\n",
      " |      Return number of occurrences of value.\n",
      " |  \n",
      " |  extend(self, iterable, /)\n",
      " |      Extend list by appending elements from the iterable.\n",
      " |  \n",
      " |  index(self, value, start=0, stop=9223372036854775807, /)\n",
      " |      Return first index of value.\n",
      " |      \n",
      " |      Raises ValueError if the value is not present.\n",
      " |  \n",
      " |  insert(self, index, object, /)\n",
      " |      Insert object before index.\n",
      " |  \n",
      " |  pop(self, index=-1, /)\n",
      " |      Remove and return item at index (default last).\n",
      " |      \n",
      " |      Raises IndexError if list is empty or index is out of range.\n",
      " |  \n",
      " |  remove(self, value, /)\n",
      " |      Remove first occurrence of value.\n",
      " |      \n",
      " |      Raises ValueError if the value is not present.\n",
      " |  \n",
      " |  reverse(self, /)\n",
      " |      Reverse *IN PLACE*.\n",
      " |  \n",
      " |  sort(self, /, *, key=None, reverse=False)\n",
      " |      Sort the list in ascending order and return None.\n",
      " |      \n",
      " |      The sort is in-place (i.e. the list itself is modified) and stable (i.e. the\n",
      " |      order of two equal elements is maintained).\n",
      " |      \n",
      " |      If a key function is given, apply it once to each list item and sort them,\n",
      " |      ascending or descending, according to their function values.\n",
      " |      \n",
      " |      The reverse flag can be set to sort in descending order.\n",
      " |  \n",
      " |  ----------------------------------------------------------------------\n",
      " |  Static methods defined here:\n",
      " |  \n",
      " |  __new__(*args, **kwargs) from builtins.type\n",
      " |      Create and return a new object.  See help(type) for accurate signature.\n",
      " |  \n",
      " |  ----------------------------------------------------------------------\n",
      " |  Data and other attributes defined here:\n",
      " |  \n",
      " |  __hash__ = None\n",
      "\n"
     ]
    }
   ],
   "source": [
    "help(ds.field_list)"
   ]
  },
  {
   "cell_type": "markdown",
   "metadata": {},
   "source": [
    "yt can also tell you the fields it found on disk:"
   ]
  },
  {
   "cell_type": "code",
   "execution_count": 5,
   "metadata": {
    "collapsed": false,
    "jupyter": {
     "outputs_hidden": false
    }
   },
   "outputs": [
    {
     "data": {
      "text/plain": [
       "[('all', 'creation_time'),\n",
       " ('all', 'dynamical_time'),\n",
       " ('all', 'metallicity_fraction'),\n",
       " ('all', 'particle_index'),\n",
       " ('all', 'particle_mass'),\n",
       " ('all', 'particle_position_x'),\n",
       " ('all', 'particle_position_y'),\n",
       " ('all', 'particle_position_z'),\n",
       " ('all', 'particle_type'),\n",
       " ('all', 'particle_velocity_x'),\n",
       " ('all', 'particle_velocity_y'),\n",
       " ('all', 'particle_velocity_z'),\n",
       " ('enzo', 'Average_creation_time'),\n",
       " ('enzo', 'Bx'),\n",
       " ('enzo', 'By'),\n",
       " ('enzo', 'Bz'),\n",
       " ('enzo', 'Cooling_Time'),\n",
       " ('enzo', 'Dark_Matter_Density'),\n",
       " ('enzo', 'Density'),\n",
       " ('enzo', 'Electron_Density'),\n",
       " ('enzo', 'Forming_Stellar_Mass_Density'),\n",
       " ('enzo', 'Galaxy1Colour'),\n",
       " ('enzo', 'Galaxy2Colour'),\n",
       " ('enzo', 'HII_Density'),\n",
       " ('enzo', 'HI_Density'),\n",
       " ('enzo', 'HeIII_Density'),\n",
       " ('enzo', 'HeII_Density'),\n",
       " ('enzo', 'HeI_Density'),\n",
       " ('enzo', 'MBHColour'),\n",
       " ('enzo', 'Metal_Density'),\n",
       " ('enzo', 'PhiField'),\n",
       " ('enzo', 'Phi_pField'),\n",
       " ('enzo', 'SFR_Density'),\n",
       " ('enzo', 'Star_Particle_Density'),\n",
       " ('enzo', 'Temperature'),\n",
       " ('enzo', 'TotalEnergy'),\n",
       " ('enzo', 'gammaHI'),\n",
       " ('enzo', 'kphHI'),\n",
       " ('enzo', 'kphHeI'),\n",
       " ('enzo', 'kphHeII'),\n",
       " ('enzo', 'x-velocity'),\n",
       " ('enzo', 'y-velocity'),\n",
       " ('enzo', 'z-velocity'),\n",
       " ('io', 'creation_time'),\n",
       " ('io', 'dynamical_time'),\n",
       " ('io', 'metallicity_fraction'),\n",
       " ('io', 'particle_index'),\n",
       " ('io', 'particle_mass'),\n",
       " ('io', 'particle_position_x'),\n",
       " ('io', 'particle_position_y'),\n",
       " ('io', 'particle_position_z'),\n",
       " ('io', 'particle_type'),\n",
       " ('io', 'particle_velocity_x'),\n",
       " ('io', 'particle_velocity_y'),\n",
       " ('io', 'particle_velocity_z'),\n",
       " ('nbody', 'creation_time'),\n",
       " ('nbody', 'dynamical_time'),\n",
       " ('nbody', 'metallicity_fraction'),\n",
       " ('nbody', 'particle_index'),\n",
       " ('nbody', 'particle_mass'),\n",
       " ('nbody', 'particle_position_x'),\n",
       " ('nbody', 'particle_position_y'),\n",
       " ('nbody', 'particle_position_z'),\n",
       " ('nbody', 'particle_type'),\n",
       " ('nbody', 'particle_velocity_x'),\n",
       " ('nbody', 'particle_velocity_y'),\n",
       " ('nbody', 'particle_velocity_z')]"
      ]
     },
     "execution_count": 5,
     "metadata": {},
     "output_type": "execute_result"
    }
   ],
   "source": [
    "ds.field_list"
   ]
  },
  {
   "cell_type": "markdown",
   "metadata": {},
   "source": [
    "And, all of the fields it thinks it knows how to generate:"
   ]
  },
  {
   "cell_type": "code",
   "execution_count": 6,
   "metadata": {
    "collapsed": false,
    "jupyter": {
     "outputs_hidden": false
    }
   },
   "outputs": [
    {
     "data": {
      "text/plain": [
       "[('all', 'age'),\n",
       " ('all', 'creation_time'),\n",
       " ('all', 'dynamical_time'),\n",
       " ('all', 'mesh_id'),\n",
       " ('all', 'metallicity_fraction'),\n",
       " ('all', 'particle_angular_momentum'),\n",
       " ('all', 'particle_angular_momentum_magnitude'),\n",
       " ('all', 'particle_angular_momentum_x'),\n",
       " ('all', 'particle_angular_momentum_y'),\n",
       " ('all', 'particle_angular_momentum_z'),\n",
       " ('all', 'particle_cylindrical_velocity_theta'),\n",
       " ('all', 'particle_cylindrical_velocity_z'),\n",
       " ('all', 'particle_index'),\n",
       " ('all', 'particle_mass'),\n",
       " ('all', 'particle_ones'),\n",
       " ('all', 'particle_position'),\n",
       " ('all', 'particle_position_cylindrical_radius'),\n",
       " ('all', 'particle_position_cylindrical_theta'),\n",
       " ('all', 'particle_position_cylindrical_z'),\n",
       " ('all', 'particle_position_relative_x'),\n",
       " ('all', 'particle_position_relative_y'),\n",
       " ('all', 'particle_position_relative_z'),\n",
       " ('all', 'particle_position_spherical_phi'),\n",
       " ('all', 'particle_position_spherical_radius'),\n",
       " ('all', 'particle_position_spherical_theta'),\n",
       " ('all', 'particle_position_x'),\n",
       " ('all', 'particle_position_y'),\n",
       " ('all', 'particle_position_z'),\n",
       " ('all', 'particle_radial_velocity'),\n",
       " ('all', 'particle_radius'),\n",
       " ('all', 'particle_specific_angular_momentum'),\n",
       " ('all', 'particle_specific_angular_momentum_x'),\n",
       " ('all', 'particle_specific_angular_momentum_y'),\n",
       " ('all', 'particle_specific_angular_momentum_z'),\n",
       " ('all', 'particle_spherical_position_phi'),\n",
       " ('all', 'particle_spherical_position_radius'),\n",
       " ('all', 'particle_spherical_position_theta'),\n",
       " ('all', 'particle_spherical_velocity_phi'),\n",
       " ('all', 'particle_spherical_velocity_radius'),\n",
       " ('all', 'particle_spherical_velocity_theta'),\n",
       " ('all', 'particle_type'),\n",
       " ('all', 'particle_velocity'),\n",
       " ('all', 'particle_velocity_cylindrical_radius'),\n",
       " ('all', 'particle_velocity_cylindrical_theta'),\n",
       " ('all', 'particle_velocity_cylindrical_z'),\n",
       " ('all', 'particle_velocity_magnitude'),\n",
       " ('all', 'particle_velocity_relative_x'),\n",
       " ('all', 'particle_velocity_relative_y'),\n",
       " ('all', 'particle_velocity_relative_z'),\n",
       " ('all', 'particle_velocity_spherical_phi'),\n",
       " ('all', 'particle_velocity_spherical_radius'),\n",
       " ('all', 'particle_velocity_spherical_theta'),\n",
       " ('all', 'particle_velocity_x'),\n",
       " ('all', 'particle_velocity_y'),\n",
       " ('all', 'particle_velocity_z'),\n",
       " ('all', 'relative_particle_position'),\n",
       " ('all', 'relative_particle_position_x'),\n",
       " ('all', 'relative_particle_position_y'),\n",
       " ('all', 'relative_particle_position_z'),\n",
       " ('all', 'relative_particle_velocity'),\n",
       " ('all', 'relative_particle_velocity_x'),\n",
       " ('all', 'relative_particle_velocity_y'),\n",
       " ('all', 'relative_particle_velocity_z'),\n",
       " ('deposit', 'all_cic'),\n",
       " ('deposit', 'all_cic_age'),\n",
       " ('deposit', 'all_cic_velocity_x'),\n",
       " ('deposit', 'all_cic_velocity_y'),\n",
       " ('deposit', 'all_cic_velocity_z'),\n",
       " ('deposit', 'all_count'),\n",
       " ('deposit', 'all_density'),\n",
       " ('deposit', 'all_mass'),\n",
       " ('deposit', 'all_nn_age'),\n",
       " ('deposit', 'all_nn_velocity_x'),\n",
       " ('deposit', 'all_nn_velocity_y'),\n",
       " ('deposit', 'all_nn_velocity_z'),\n",
       " ('deposit', 'io_cic'),\n",
       " ('deposit', 'io_cic_age'),\n",
       " ('deposit', 'io_cic_velocity_x'),\n",
       " ('deposit', 'io_cic_velocity_y'),\n",
       " ('deposit', 'io_cic_velocity_z'),\n",
       " ('deposit', 'io_count'),\n",
       " ('deposit', 'io_density'),\n",
       " ('deposit', 'io_mass'),\n",
       " ('deposit', 'io_nn_age'),\n",
       " ('deposit', 'io_nn_velocity_x'),\n",
       " ('deposit', 'io_nn_velocity_y'),\n",
       " ('deposit', 'io_nn_velocity_z'),\n",
       " ('deposit', 'nbody_cic'),\n",
       " ('deposit', 'nbody_cic_age'),\n",
       " ('deposit', 'nbody_cic_velocity_x'),\n",
       " ('deposit', 'nbody_cic_velocity_y'),\n",
       " ('deposit', 'nbody_cic_velocity_z'),\n",
       " ('deposit', 'nbody_count'),\n",
       " ('deposit', 'nbody_density'),\n",
       " ('deposit', 'nbody_mass'),\n",
       " ('deposit', 'nbody_nn_age'),\n",
       " ('deposit', 'nbody_nn_velocity_x'),\n",
       " ('deposit', 'nbody_nn_velocity_y'),\n",
       " ('deposit', 'nbody_nn_velocity_z'),\n",
       " ('enzo', 'Average_creation_time'),\n",
       " ('enzo', 'Bx'),\n",
       " ('enzo', 'By'),\n",
       " ('enzo', 'Bz'),\n",
       " ('enzo', 'Cooling_Time'),\n",
       " ('enzo', 'Dark_Matter_Density'),\n",
       " ('enzo', 'Density'),\n",
       " ('enzo', 'Electron_Density'),\n",
       " ('enzo', 'Forming_Stellar_Mass_Density'),\n",
       " ('enzo', 'Galaxy1Colour'),\n",
       " ('enzo', 'Galaxy2Colour'),\n",
       " ('enzo', 'HII_Density'),\n",
       " ('enzo', 'HI_Density'),\n",
       " ('enzo', 'HeIII_Density'),\n",
       " ('enzo', 'HeII_Density'),\n",
       " ('enzo', 'HeI_Density'),\n",
       " ('enzo', 'MBHColour'),\n",
       " ('enzo', 'Metal_Density'),\n",
       " ('enzo', 'PhiField'),\n",
       " ('enzo', 'Phi_pField'),\n",
       " ('enzo', 'SFR_Density'),\n",
       " ('enzo', 'Star_Particle_Density'),\n",
       " ('enzo', 'Temperature'),\n",
       " ('enzo', 'TotalEnergy'),\n",
       " ('enzo', 'cell_volume'),\n",
       " ('enzo', 'dx'),\n",
       " ('enzo', 'dy'),\n",
       " ('enzo', 'dz'),\n",
       " ('enzo', 'gammaHI'),\n",
       " ('enzo', 'kphHI'),\n",
       " ('enzo', 'kphHeI'),\n",
       " ('enzo', 'kphHeII'),\n",
       " ('enzo', 'path_element_x'),\n",
       " ('enzo', 'path_element_y'),\n",
       " ('enzo', 'path_element_z'),\n",
       " ('enzo', 'volume'),\n",
       " ('enzo', 'x'),\n",
       " ('enzo', 'x-velocity'),\n",
       " ('enzo', 'y'),\n",
       " ('enzo', 'y-velocity'),\n",
       " ('enzo', 'z'),\n",
       " ('enzo', 'z-velocity'),\n",
       " ('gas', 'El_density'),\n",
       " ('gas', 'El_fraction'),\n",
       " ('gas', 'El_mass'),\n",
       " ('gas', 'El_number_density'),\n",
       " ('gas', 'H_density'),\n",
       " ('gas', 'H_fraction'),\n",
       " ('gas', 'H_mass'),\n",
       " ('gas', 'H_nuclei_density'),\n",
       " ('gas', 'H_number_density'),\n",
       " ('gas', 'H_p0_density'),\n",
       " ('gas', 'H_p0_fraction'),\n",
       " ('gas', 'H_p0_mass'),\n",
       " ('gas', 'H_p0_number_density'),\n",
       " ('gas', 'H_p1_density'),\n",
       " ('gas', 'H_p1_fraction'),\n",
       " ('gas', 'H_p1_mass'),\n",
       " ('gas', 'H_p1_number_density'),\n",
       " ('gas', 'He_density'),\n",
       " ('gas', 'He_fraction'),\n",
       " ('gas', 'He_mass'),\n",
       " ('gas', 'He_nuclei_density'),\n",
       " ('gas', 'He_number_density'),\n",
       " ('gas', 'He_p0_density'),\n",
       " ('gas', 'He_p0_fraction'),\n",
       " ('gas', 'He_p0_mass'),\n",
       " ('gas', 'He_p0_number_density'),\n",
       " ('gas', 'He_p1_density'),\n",
       " ('gas', 'He_p1_fraction'),\n",
       " ('gas', 'He_p1_mass'),\n",
       " ('gas', 'He_p1_number_density'),\n",
       " ('gas', 'He_p2_density'),\n",
       " ('gas', 'He_p2_fraction'),\n",
       " ('gas', 'He_p2_mass'),\n",
       " ('gas', 'He_p2_number_density'),\n",
       " ('gas', 'alfven_speed'),\n",
       " ('gas', 'angular_momentum_magnitude'),\n",
       " ('gas', 'angular_momentum_x'),\n",
       " ('gas', 'angular_momentum_y'),\n",
       " ('gas', 'angular_momentum_z'),\n",
       " ('gas', 'averaged_density'),\n",
       " ('gas', 'baroclinic_vorticity_magnitude'),\n",
       " ('gas', 'baroclinic_vorticity_x'),\n",
       " ('gas', 'baroclinic_vorticity_y'),\n",
       " ('gas', 'baroclinic_vorticity_z'),\n",
       " ('gas', 'cell_mass'),\n",
       " ('gas', 'cell_volume'),\n",
       " ('gas', 'cooling_time'),\n",
       " ('gas', 'courant_time_step'),\n",
       " ('gas', 'cutting_plane_magnetic_field_x'),\n",
       " ('gas', 'cutting_plane_magnetic_field_y'),\n",
       " ('gas', 'cutting_plane_magnetic_field_z'),\n",
       " ('gas', 'cutting_plane_velocity_x'),\n",
       " ('gas', 'cutting_plane_velocity_y'),\n",
       " ('gas', 'cutting_plane_velocity_z'),\n",
       " ('gas', 'cylindrical_radial_magnetic_field'),\n",
       " ('gas', 'cylindrical_radial_magnetic_field_absolute'),\n",
       " ('gas', 'cylindrical_radial_velocity'),\n",
       " ('gas', 'cylindrical_radial_velocity_absolute'),\n",
       " ('gas', 'cylindrical_tangential_magnetic_field'),\n",
       " ('gas', 'cylindrical_tangential_magnetic_field_absolute'),\n",
       " ('gas', 'cylindrical_tangential_velocity'),\n",
       " ('gas', 'cylindrical_tangential_velocity_absolute'),\n",
       " ('gas', 'dark_matter_density'),\n",
       " ('gas', 'density'),\n",
       " ('gas', 'density_gradient_magnitude'),\n",
       " ('gas', 'density_gradient_x'),\n",
       " ('gas', 'density_gradient_y'),\n",
       " ('gas', 'density_gradient_z'),\n",
       " ('gas', 'dx'),\n",
       " ('gas', 'dy'),\n",
       " ('gas', 'dynamical_time'),\n",
       " ('gas', 'dz'),\n",
       " ('gas', 'emission_measure'),\n",
       " ('gas', 'entropy'),\n",
       " ('gas', 'jeans_mass'),\n",
       " ('gas', 'kT'),\n",
       " ('gas', 'kinetic_energy'),\n",
       " ('gas', 'kinetic_energy_density'),\n",
       " ('gas', 'mach_alfven'),\n",
       " ('gas', 'mach_number'),\n",
       " ('gas', 'magnetic_energy'),\n",
       " ('gas', 'magnetic_energy_density'),\n",
       " ('gas', 'magnetic_field_cylindrical_radius'),\n",
       " ('gas', 'magnetic_field_cylindrical_theta'),\n",
       " ('gas', 'magnetic_field_cylindrical_z'),\n",
       " ('gas', 'magnetic_field_divergence'),\n",
       " ('gas', 'magnetic_field_divergence_absolute'),\n",
       " ('gas', 'magnetic_field_los'),\n",
       " ('gas', 'magnetic_field_magnitude'),\n",
       " ('gas', 'magnetic_field_poloidal'),\n",
       " ('gas', 'magnetic_field_spherical_phi'),\n",
       " ('gas', 'magnetic_field_spherical_radius'),\n",
       " ('gas', 'magnetic_field_spherical_theta'),\n",
       " ('gas', 'magnetic_field_strength'),\n",
       " ('gas', 'magnetic_field_toroidal'),\n",
       " ('gas', 'magnetic_field_x'),\n",
       " ('gas', 'magnetic_field_y'),\n",
       " ('gas', 'magnetic_field_z'),\n",
       " ('gas', 'magnetic_pressure'),\n",
       " ('gas', 'mass'),\n",
       " ('gas', 'matter_density'),\n",
       " ('gas', 'matter_mass'),\n",
       " ('gas', 'mazzotta_weighting'),\n",
       " ('gas', 'mean_molecular_weight'),\n",
       " ('gas', 'metal_density'),\n",
       " ('gas', 'metal_mass'),\n",
       " ('gas', 'metallicity'),\n",
       " ('gas', 'momentum_density_x'),\n",
       " ('gas', 'momentum_density_y'),\n",
       " ('gas', 'momentum_density_z'),\n",
       " ('gas', 'momentum_x'),\n",
       " ('gas', 'momentum_y'),\n",
       " ('gas', 'momentum_z'),\n",
       " ('gas', 'number_density'),\n",
       " ('gas', 'optical_depth'),\n",
       " ('gas', 'path_element_x'),\n",
       " ('gas', 'path_element_y'),\n",
       " ('gas', 'path_element_z'),\n",
       " ('gas', 'plasma_beta'),\n",
       " ('gas', 'pressure'),\n",
       " ('gas', 'pressure_gradient_magnitude'),\n",
       " ('gas', 'pressure_gradient_x'),\n",
       " ('gas', 'pressure_gradient_y'),\n",
       " ('gas', 'pressure_gradient_z'),\n",
       " ('gas', 'radial_mach_number'),\n",
       " ('gas', 'radial_magnetic_field'),\n",
       " ('gas', 'radial_magnetic_field_absolute'),\n",
       " ('gas', 'radial_velocity'),\n",
       " ('gas', 'radial_velocity_absolute'),\n",
       " ('gas', 'relative_magnetic_field_x'),\n",
       " ('gas', 'relative_magnetic_field_y'),\n",
       " ('gas', 'relative_magnetic_field_z'),\n",
       " ('gas', 'relative_velocity_x'),\n",
       " ('gas', 'relative_velocity_y'),\n",
       " ('gas', 'relative_velocity_z'),\n",
       " ('gas', 'rotation_measure'),\n",
       " ('gas', 'shear'),\n",
       " ('gas', 'shear_criterion'),\n",
       " ('gas', 'shear_mach'),\n",
       " ('gas', 'sound_speed'),\n",
       " ('gas', 'specific_angular_momentum_magnitude'),\n",
       " ('gas', 'specific_angular_momentum_x'),\n",
       " ('gas', 'specific_angular_momentum_y'),\n",
       " ('gas', 'specific_angular_momentum_z'),\n",
       " ('gas', 'specific_thermal_energy'),\n",
       " ('gas', 'specific_total_energy'),\n",
       " ('gas', 'sz_kinetic'),\n",
       " ('gas', 'szy'),\n",
       " ('gas', 'tangential_magnetic_field'),\n",
       " ('gas', 'tangential_over_magnetic_field_magnitude'),\n",
       " ('gas', 'tangential_over_velocity_magnitude'),\n",
       " ('gas', 'tangential_velocity'),\n",
       " ('gas', 'temperature'),\n",
       " ('gas', 'thermal_energy'),\n",
       " ('gas', 'velocity_cylindrical_radius'),\n",
       " ('gas', 'velocity_cylindrical_theta'),\n",
       " ('gas', 'velocity_cylindrical_z'),\n",
       " ('gas', 'velocity_divergence'),\n",
       " ('gas', 'velocity_divergence_absolute'),\n",
       " ('gas', 'velocity_los'),\n",
       " ('gas', 'velocity_magnitude'),\n",
       " ('gas', 'velocity_spherical_phi'),\n",
       " ('gas', 'velocity_spherical_radius'),\n",
       " ('gas', 'velocity_spherical_theta'),\n",
       " ('gas', 'velocity_x'),\n",
       " ('gas', 'velocity_y'),\n",
       " ('gas', 'velocity_z'),\n",
       " ('gas', 'volume'),\n",
       " ('gas', 'vorticity_growth_magnitude'),\n",
       " ('gas', 'vorticity_growth_magnitude_absolute'),\n",
       " ('gas', 'vorticity_growth_timescale'),\n",
       " ('gas', 'vorticity_growth_x'),\n",
       " ('gas', 'vorticity_growth_y'),\n",
       " ('gas', 'vorticity_growth_z'),\n",
       " ('gas', 'vorticity_magnitude'),\n",
       " ('gas', 'vorticity_squared'),\n",
       " ('gas', 'vorticity_stretching_magnitude'),\n",
       " ('gas', 'vorticity_stretching_x'),\n",
       " ('gas', 'vorticity_stretching_y'),\n",
       " ('gas', 'vorticity_stretching_z'),\n",
       " ('gas', 'vorticity_x'),\n",
       " ('gas', 'vorticity_y'),\n",
       " ('gas', 'vorticity_z'),\n",
       " ('gas', 'x'),\n",
       " ('gas', 'y'),\n",
       " ('gas', 'z'),\n",
       " ('index', 'cell_volume'),\n",
       " ('index', 'cylindrical_r'),\n",
       " ('index', 'cylindrical_radius'),\n",
       " ('index', 'cylindrical_theta'),\n",
       " ('index', 'cylindrical_z'),\n",
       " ('index', 'disk_angle'),\n",
       " ('index', 'dx'),\n",
       " ('index', 'dy'),\n",
       " ('index', 'dz'),\n",
       " ('index', 'grid_indices'),\n",
       " ('index', 'grid_level'),\n",
       " ('index', 'height'),\n",
       " ('index', 'morton_index'),\n",
       " ('index', 'ones'),\n",
       " ('index', 'ones_over_dx'),\n",
       " ('index', 'path_element_x'),\n",
       " ('index', 'path_element_y'),\n",
       " ('index', 'path_element_z'),\n",
       " ('index', 'radius'),\n",
       " ('index', 'spherical_phi'),\n",
       " ('index', 'spherical_r'),\n",
       " ('index', 'spherical_radius'),\n",
       " ('index', 'spherical_theta'),\n",
       " ('index', 'virial_radius_fraction'),\n",
       " ('index', 'volume'),\n",
       " ('index', 'x'),\n",
       " ('index', 'y'),\n",
       " ('index', 'z'),\n",
       " ('index', 'zeros'),\n",
       " ('io', 'age'),\n",
       " ('io', 'creation_time'),\n",
       " ('io', 'dynamical_time'),\n",
       " ('io', 'mesh_id'),\n",
       " ('io', 'metallicity_fraction'),\n",
       " ('io', 'particle_angular_momentum'),\n",
       " ('io', 'particle_angular_momentum_magnitude'),\n",
       " ('io', 'particle_angular_momentum_x'),\n",
       " ('io', 'particle_angular_momentum_y'),\n",
       " ('io', 'particle_angular_momentum_z'),\n",
       " ('io', 'particle_cylindrical_velocity_theta'),\n",
       " ('io', 'particle_cylindrical_velocity_z'),\n",
       " ('io', 'particle_index'),\n",
       " ('io', 'particle_mass'),\n",
       " ('io', 'particle_ones'),\n",
       " ('io', 'particle_position'),\n",
       " ('io', 'particle_position_cylindrical_radius'),\n",
       " ('io', 'particle_position_cylindrical_theta'),\n",
       " ('io', 'particle_position_cylindrical_z'),\n",
       " ('io', 'particle_position_relative_x'),\n",
       " ('io', 'particle_position_relative_y'),\n",
       " ('io', 'particle_position_relative_z'),\n",
       " ('io', 'particle_position_spherical_phi'),\n",
       " ('io', 'particle_position_spherical_radius'),\n",
       " ('io', 'particle_position_spherical_theta'),\n",
       " ('io', 'particle_position_x'),\n",
       " ('io', 'particle_position_y'),\n",
       " ('io', 'particle_position_z'),\n",
       " ('io', 'particle_radial_velocity'),\n",
       " ('io', 'particle_radius'),\n",
       " ('io', 'particle_specific_angular_momentum'),\n",
       " ('io', 'particle_specific_angular_momentum_x'),\n",
       " ('io', 'particle_specific_angular_momentum_y'),\n",
       " ('io', 'particle_specific_angular_momentum_z'),\n",
       " ('io', 'particle_spherical_position_phi'),\n",
       " ('io', 'particle_spherical_position_radius'),\n",
       " ('io', 'particle_spherical_position_theta'),\n",
       " ('io', 'particle_spherical_velocity_phi'),\n",
       " ('io', 'particle_spherical_velocity_radius'),\n",
       " ('io', 'particle_spherical_velocity_theta'),\n",
       " ('io', 'particle_type'),\n",
       " ('io', 'particle_velocity'),\n",
       " ('io', 'particle_velocity_cylindrical_radius'),\n",
       " ('io', 'particle_velocity_cylindrical_theta'),\n",
       " ('io', 'particle_velocity_cylindrical_z'),\n",
       " ('io', 'particle_velocity_magnitude'),\n",
       " ('io', 'particle_velocity_relative_x'),\n",
       " ('io', 'particle_velocity_relative_y'),\n",
       " ('io', 'particle_velocity_relative_z'),\n",
       " ('io', 'particle_velocity_spherical_phi'),\n",
       " ('io', 'particle_velocity_spherical_radius'),\n",
       " ('io', 'particle_velocity_spherical_theta'),\n",
       " ('io', 'particle_velocity_x'),\n",
       " ('io', 'particle_velocity_y'),\n",
       " ('io', 'particle_velocity_z'),\n",
       " ('io', 'relative_particle_position'),\n",
       " ('io', 'relative_particle_position_x'),\n",
       " ('io', 'relative_particle_position_y'),\n",
       " ('io', 'relative_particle_position_z'),\n",
       " ('io', 'relative_particle_velocity'),\n",
       " ('io', 'relative_particle_velocity_x'),\n",
       " ('io', 'relative_particle_velocity_y'),\n",
       " ('io', 'relative_particle_velocity_z'),\n",
       " ('nbody', 'age'),\n",
       " ('nbody', 'creation_time'),\n",
       " ('nbody', 'dynamical_time'),\n",
       " ('nbody', 'mesh_id'),\n",
       " ('nbody', 'metallicity_fraction'),\n",
       " ('nbody', 'particle_angular_momentum'),\n",
       " ('nbody', 'particle_angular_momentum_magnitude'),\n",
       " ('nbody', 'particle_angular_momentum_x'),\n",
       " ('nbody', 'particle_angular_momentum_y'),\n",
       " ('nbody', 'particle_angular_momentum_z'),\n",
       " ('nbody', 'particle_cylindrical_velocity_theta'),\n",
       " ('nbody', 'particle_cylindrical_velocity_z'),\n",
       " ('nbody', 'particle_index'),\n",
       " ('nbody', 'particle_mass'),\n",
       " ('nbody', 'particle_ones'),\n",
       " ('nbody', 'particle_position'),\n",
       " ('nbody', 'particle_position_cylindrical_radius'),\n",
       " ('nbody', 'particle_position_cylindrical_theta'),\n",
       " ('nbody', 'particle_position_cylindrical_z'),\n",
       " ('nbody', 'particle_position_relative_x'),\n",
       " ('nbody', 'particle_position_relative_y'),\n",
       " ('nbody', 'particle_position_relative_z'),\n",
       " ('nbody', 'particle_position_spherical_phi'),\n",
       " ('nbody', 'particle_position_spherical_radius'),\n",
       " ('nbody', 'particle_position_spherical_theta'),\n",
       " ('nbody', 'particle_position_x'),\n",
       " ('nbody', 'particle_position_y'),\n",
       " ('nbody', 'particle_position_z'),\n",
       " ('nbody', 'particle_radial_velocity'),\n",
       " ('nbody', 'particle_radius'),\n",
       " ('nbody', 'particle_specific_angular_momentum'),\n",
       " ('nbody', 'particle_specific_angular_momentum_x'),\n",
       " ('nbody', 'particle_specific_angular_momentum_y'),\n",
       " ('nbody', 'particle_specific_angular_momentum_z'),\n",
       " ('nbody', 'particle_spherical_position_phi'),\n",
       " ('nbody', 'particle_spherical_position_radius'),\n",
       " ('nbody', 'particle_spherical_position_theta'),\n",
       " ('nbody', 'particle_spherical_velocity_phi'),\n",
       " ('nbody', 'particle_spherical_velocity_radius'),\n",
       " ('nbody', 'particle_spherical_velocity_theta'),\n",
       " ('nbody', 'particle_type'),\n",
       " ('nbody', 'particle_velocity'),\n",
       " ('nbody', 'particle_velocity_cylindrical_radius'),\n",
       " ('nbody', 'particle_velocity_cylindrical_theta'),\n",
       " ('nbody', 'particle_velocity_cylindrical_z'),\n",
       " ('nbody', 'particle_velocity_magnitude'),\n",
       " ('nbody', 'particle_velocity_relative_x'),\n",
       " ('nbody', 'particle_velocity_relative_y'),\n",
       " ('nbody', 'particle_velocity_relative_z'),\n",
       " ('nbody', 'particle_velocity_spherical_phi'),\n",
       " ('nbody', 'particle_velocity_spherical_radius'),\n",
       " ('nbody', 'particle_velocity_spherical_theta'),\n",
       " ('nbody', 'particle_velocity_x'),\n",
       " ('nbody', 'particle_velocity_y'),\n",
       " ('nbody', 'particle_velocity_z'),\n",
       " ('nbody', 'relative_particle_position'),\n",
       " ('nbody', 'relative_particle_position_x'),\n",
       " ('nbody', 'relative_particle_position_y'),\n",
       " ('nbody', 'relative_particle_position_z'),\n",
       " ('nbody', 'relative_particle_velocity'),\n",
       " ('nbody', 'relative_particle_velocity_x'),\n",
       " ('nbody', 'relative_particle_velocity_y'),\n",
       " ('nbody', 'relative_particle_velocity_z')]"
      ]
     },
     "execution_count": 6,
     "metadata": {},
     "output_type": "execute_result"
    }
   ],
   "source": [
    "ds.derived_field_list"
   ]
  },
  {
   "cell_type": "markdown",
   "metadata": {},
   "source": [
    "yt can also transparently generate fields.  However, we encourage you to examine exactly what yt is doing when it generates those fields.  To see, you can ask for the source of a given field."
   ]
  },
  {
   "cell_type": "code",
   "execution_count": 7,
   "metadata": {
    "collapsed": false,
    "jupyter": {
     "outputs_hidden": false
    }
   },
   "outputs": [
    {
     "name": "stdout",
     "output_type": "stream",
     "text": [
      "    def _vorticity_x(field, data):\n",
      "        vz = data[ftype, \"relative_velocity_z\"]\n",
      "        vy = data[ftype, \"relative_velocity_y\"]\n",
      "        f = (vz[sl_center, sl_right, sl_center] - vz[sl_center, sl_left, sl_center]) / (\n",
      "            div_fac * just_one(data[\"index\", \"dy\"])\n",
      "        )\n",
      "        f -= (\n",
      "            vy[sl_center, sl_center, sl_right] - vy[sl_center, sl_center, sl_left]\n",
      "        ) / (div_fac * just_one(data[\"index\", \"dz\"]))\n",
      "        new_field = data.ds.arr(np.zeros_like(vz, dtype=np.float64), f.units)\n",
      "        new_field[sl_center, sl_center, sl_center] = f\n",
      "        return new_field\n",
      "\n"
     ]
    }
   ],
   "source": [
    "print(ds.field_info[\"gas\", \"vorticity_x\"].get_source())"
   ]
  },
  {
   "cell_type": "markdown",
   "metadata": {},
   "source": [
    "yt stores information about the domain of the simulation:"
   ]
  },
  {
   "cell_type": "code",
   "execution_count": 8,
   "metadata": {
    "collapsed": false,
    "jupyter": {
     "outputs_hidden": false
    }
   },
   "outputs": [
    {
     "data": {
      "application/vnd.jupyter.widget-view+json": {
       "model_id": "175059f2a7894f9d870d5701141a55cc",
       "version_major": 2,
       "version_minor": 0
      },
      "text/plain": [
       "HBox(children=(Text(value='1.0', disabled=True), Text(value='1.0', disabled=True), Text(value='1.0', disabled=…"
      ]
     },
     "metadata": {},
     "output_type": "display_data"
    }
   ],
   "source": [
    "ds.domain_width"
   ]
  },
  {
   "cell_type": "markdown",
   "metadata": {},
   "source": [
    "yt can also convert this into various units:"
   ]
  },
  {
   "cell_type": "code",
   "execution_count": 9,
   "metadata": {
    "collapsed": false,
    "jupyter": {
     "outputs_hidden": false
    }
   },
   "outputs": [
    {
     "name": "stdout",
     "output_type": "stream",
     "text": [
      "[1000.10448889 1000.10448889 1000.10448889] kpc\n",
      "[2.06286359e+11 2.06286359e+11 2.06286359e+11] AU\n",
      "[1.9175515e+19 1.9175515e+19 1.9175515e+19] mile\n"
     ]
    }
   ],
   "source": [
    "print (ds.domain_width.in_units(\"kpc\"))\n",
    "print (ds.domain_width.in_units(\"au\"))\n",
    "print (ds.domain_width.in_units(\"mile\"))"
   ]
  },
  {
   "cell_type": "markdown",
   "metadata": {},
   "source": [
    "Finally, we can get basic information about the particle types and number of particles in a simulation:"
   ]
  },
  {
   "cell_type": "code",
   "execution_count": 10,
   "metadata": {
    "collapsed": false,
    "jupyter": {
     "outputs_hidden": false
    }
   },
   "outputs": [
    {
     "name": "stdout",
     "output_type": "stream",
     "text": [
      "['io', 'all', 'nbody']\n",
      "['io']\n",
      "{'io': 1124453}\n"
     ]
    }
   ],
   "source": [
    "print (ds.particle_types)\n",
    "print (ds.particle_types_raw)\n",
    "print (ds.particle_type_counts)"
   ]
  },
  {
   "cell_type": "markdown",
   "metadata": {},
   "source": [
    "For this dataset, we see that there are two particle types defined, (`io` and `all`), but that only one of these particle types in `ds.particle_types_raw`. The `ds.particle_types` list contains *all* particle types in the simulation, including ones that are dynamically defined like particle unions. The `ds.particle_types_raw` list includes only particle types that are in the output file we loaded the dataset from.\n",
    "\n",
    "We can also see that there are a bit more than 1.1 million particles in this simulation. Only particle types in `ds.particle_types_raw` will appear in the `ds.particle_type_counts` dictionary."
   ]
  },
  {
   "cell_type": "markdown",
   "metadata": {},
   "source": [
    "# Mesh Structure\n",
    "\n",
    "If you're using a simulation type that has grids (for instance, here we're using an Enzo simulation) you can examine the structure of the mesh.  For the most part, you probably won't have to use this unless you're debugging a simulation or examining in detail what is going on."
   ]
  },
  {
   "cell_type": "code",
   "execution_count": 11,
   "metadata": {
    "collapsed": false,
    "jupyter": {
     "outputs_hidden": false
    }
   },
   "outputs": [
    {
     "name": "stdout",
     "output_type": "stream",
     "text": [
      "[[0.         0.         0.        ]\n",
      " [0.25       0.21875    0.25      ]\n",
      " [0.5        0.21875    0.25      ]\n",
      " [0.21875    0.5        0.25      ]\n",
      " [0.5        0.5        0.25      ]\n",
      " [0.25       0.25       0.5       ]\n",
      " [0.5        0.25       0.5       ]\n",
      " [0.25       0.5        0.5       ]\n",
      " [0.5        0.5        0.5       ]\n",
      " [0.5        0.5        0.5       ]\n",
      " [0.5        0.5        0.5       ]\n",
      " [0.5        0.5        0.5       ]\n",
      " [0.5        0.5        0.5       ]\n",
      " [0.50976562 0.5        0.5       ]\n",
      " [0.50976562 0.5        0.50585938]\n",
      " [0.50976562 0.53515625 0.50585938]\n",
      " [0.52148438 0.53515625 0.50585938]\n",
      " [0.52148438 0.54101562 0.52539062]\n",
      " [0.52734375 0.53515625 0.50585938]\n",
      " [0.50976562 0.5        0.50585938]\n",
      " [0.50976562 0.5        0.5       ]\n",
      " [0.5        0.5        0.5       ]\n",
      " [0.5        0.5        0.5       ]\n",
      " [0.5        0.5        0.50585938]\n",
      " [0.50634766 0.50244141 0.50585938]\n",
      " [0.50488281 0.5        0.50585938]\n",
      " [0.5        0.50390625 0.50585938]\n",
      " [0.5        0.5        0.5       ]\n",
      " [0.28125    0.5        0.5       ]\n",
      " [0.3359375  0.5        0.5       ]\n",
      " [0.40625    0.5        0.5       ]\n",
      " [0.4453125  0.5        0.5       ]\n",
      " [0.44921875 0.52539062 0.50390625]\n",
      " [0.46289062 0.52734375 0.5       ]\n",
      " [0.48242188 0.52539062 0.5       ]\n",
      " [0.46875    0.54492188 0.5078125 ]\n",
      " [0.45703125 0.52539062 0.51953125]\n",
      " [0.47851562 0.52539062 0.5       ]\n",
      " [0.46484375 0.52539062 0.5       ]\n",
      " [0.45898438 0.52539062 0.50585938]\n",
      " [0.48242188 0.52539062 0.52539062]\n",
      " [0.47070312 0.52539062 0.51953125]\n",
      " [0.47851562 0.52539062 0.52539062]\n",
      " [0.47851562 0.5        0.5       ]\n",
      " [0.49023438 0.5        0.5       ]\n",
      " [0.49658203 0.51025391 0.50048828]\n",
      " [0.49462891 0.5        0.5       ]\n",
      " [0.49584961 0.5        0.5       ]\n",
      " [0.49584961 0.50048828 0.5       ]\n",
      " [0.49584961 0.5012207  0.5       ]\n",
      " [0.49804688 0.5012207  0.5       ]\n",
      " [0.49633789 0.50341797 0.5       ]\n",
      " [0.49658203 0.5012207  0.50073242]\n",
      " [0.49658203 0.50244141 0.50073242]\n",
      " [0.49780273 0.5012207  0.50146484]\n",
      " [0.5        0.28125    0.5       ]\n",
      " [0.5        0.3359375  0.5       ]\n",
      " [0.5        0.40625    0.5       ]\n",
      " [0.50195312 0.44140625 0.50585938]\n",
      " [0.5        0.45117188 0.5       ]\n",
      " [0.515625   0.44335938 0.5       ]\n",
      " [0.53125    0.46289062 0.5       ]\n",
      " [0.53125    0.49023438 0.5       ]\n",
      " [0.53125    0.4609375  0.515625  ]\n",
      " [0.53125    0.47265625 0.515625  ]\n",
      " [0.53125    0.48046875 0.515625  ]\n",
      " [0.53125    0.48632812 0.53125   ]\n",
      " [0.54101562 0.484375   0.515625  ]\n",
      " [0.53710938 0.48046875 0.53320312]\n",
      " [0.5        0.47460938 0.50195312]\n",
      " [0.5        0.47949219 0.5       ]\n",
      " [0.50292969 0.4765625  0.50195312]\n",
      " [0.50195312 0.48779297 0.50048828]\n",
      " [0.5        0.48974609 0.5       ]\n",
      " [0.5        0.49609375 0.50976562]\n",
      " [0.5        0.49414062 0.5       ]\n",
      " [0.5        0.49707031 0.5       ]\n",
      " [0.28125    0.28125    0.5       ]\n",
      " [0.3359375  0.3359375  0.5       ]\n",
      " [0.46484375 0.37890625 0.50390625]\n",
      " [0.40625    0.40625    0.5       ]\n",
      " [0.49609375 0.44335938 0.50585938]\n",
      " [0.44921875 0.453125   0.5       ]\n",
      " [0.4765625  0.47753906 0.5       ]\n",
      " [0.49755859 0.48925781 0.50097656]\n",
      " [0.49023438 0.49121094 0.5       ]\n",
      " [0.49609375 0.48828125 0.50341797]\n",
      " [0.49633789 0.49389648 0.5       ]\n",
      " [0.49487305 0.49926758 0.5       ]\n",
      " [0.49731445 0.49609375 0.5       ]\n",
      " [0.49755859 0.49609375 0.5       ]\n",
      " [0.49487305 0.49707031 0.5       ]\n",
      " [0.49682617 0.49682617 0.5       ]\n",
      " [0.5        0.5        0.28125   ]\n",
      " [0.5        0.5        0.3359375 ]\n",
      " [0.5        0.5        0.40234375]\n",
      " [0.5        0.5        0.453125  ]\n",
      " [0.5        0.5        0.4765625 ]\n",
      " [0.5        0.5        0.49121094]\n",
      " [0.5        0.5        0.49682617]\n",
      " [0.50170898 0.5        0.49804688]\n",
      " [0.50170898 0.50219727 0.49853516]\n",
      " [0.50219727 0.50219727 0.4987793 ]\n",
      " [0.50170898 0.50219727 0.49951172]\n",
      " [0.50292969 0.50219727 0.49951172]\n",
      " [0.265625   0.5        0.28125   ]\n",
      " [0.3359375  0.5        0.328125  ]\n",
      " [0.40234375 0.5        0.40625   ]\n",
      " [0.45117188 0.5        0.45117188]\n",
      " [0.49804688 0.5        0.47265625]\n",
      " [0.47460938 0.5        0.4765625 ]\n",
      " [0.49316406 0.50195312 0.48730469]\n",
      " [0.48925781 0.50244141 0.49658203]\n",
      " [0.49072266 0.5        0.49072266]\n",
      " [0.49926758 0.50048828 0.49560547]\n",
      " [0.49487305 0.5        0.49926758]\n",
      " [0.49707031 0.5        0.49707031]\n",
      " [0.49609375 0.50219727 0.49951172]\n",
      " [0.49658203 0.5        0.49853516]\n",
      " [0.5        0.265625   0.28125   ]\n",
      " [0.5        0.3203125  0.328125  ]\n",
      " [0.5        0.3984375  0.40625   ]\n",
      " [0.546875   0.41796875 0.4453125 ]\n",
      " [0.546875   0.453125   0.41796875]\n",
      " [0.546875   0.4375     0.4375    ]\n",
      " [0.546875   0.4921875  0.41796875]\n",
      " [0.546875   0.48046875 0.41796875]\n",
      " [0.55859375 0.46875    0.43359375]\n",
      " [0.5        0.4609375  0.4453125 ]\n",
      " [0.5        0.44921875 0.47460938]\n",
      " [0.51367188 0.47265625 0.46289062]\n",
      " [0.51367188 0.47460938 0.45703125]\n",
      " [0.52734375 0.47070312 0.46679688]\n",
      " [0.51367188 0.46679688 0.46875   ]\n",
      " [0.5        0.47460938 0.47753906]\n",
      " [0.5        0.49023438 0.49072266]\n",
      " [0.50488281 0.49560547 0.48974609]\n",
      " [0.50488281 0.49169922 0.49365234]\n",
      " [0.50488281 0.49511719 0.49365234]\n",
      " [0.50488281 0.49511719 0.49462891]\n",
      " [0.50488281 0.49707031 0.49267578]\n",
      " [0.50488281 0.49853516 0.49316406]\n",
      " [0.5        0.49560547 0.49707031]\n",
      " [0.50317383 0.4987793  0.49902344]\n",
      " [0.265625   0.28125    0.28125   ]\n",
      " [0.328125   0.3359375  0.328125  ]\n",
      " [0.4140625  0.40625    0.40625   ]\n",
      " [0.49414062 0.43945312 0.48632812]\n",
      " [0.45703125 0.4765625  0.46875   ]\n",
      " [0.48632812 0.44921875 0.453125  ]\n",
      " [0.45117188 0.4921875  0.453125  ]\n",
      " [0.44921875 0.453125   0.47851562]\n",
      " [0.46289062 0.484375   0.45507812]\n",
      " [0.484375   0.46484375 0.45703125]\n",
      " [0.47265625 0.47851562 0.46484375]\n",
      " [0.47265625 0.45898438 0.47070312]\n",
      " [0.4765625  0.47265625 0.46289062]\n",
      " [0.4765625  0.47070312 0.46679688]\n",
      " [0.47363281 0.48535156 0.49414062]\n",
      " [0.47363281 0.48339844 0.49707031]\n",
      " [0.48242188 0.48535156 0.48632812]\n",
      " [0.48144531 0.48339844 0.49121094]\n",
      " [0.47753906 0.4921875  0.48632812]\n",
      " [0.48632812 0.47558594 0.47753906]\n",
      " [0.49511719 0.49707031 0.48632812]\n",
      " [0.49755859 0.49560547 0.48828125]\n",
      " [0.49169922 0.48974609 0.49414062]\n",
      " [0.49023438 0.49169922 0.49072266]\n",
      " [0.49560547 0.49853516 0.49951172]\n",
      " [0.49707031 0.49707031 0.49853516]\n",
      " [0.49658203 0.49755859 0.49707031]\n",
      " [0.49902344 0.49560547 0.49755859]\n",
      " [0.49804688 0.49609375 0.49853516]] code_length\n"
     ]
    }
   ],
   "source": [
    "print (ds.index.grid_left_edge)"
   ]
  },
  {
   "cell_type": "markdown",
   "metadata": {},
   "source": [
    "But, you may have to access information about individual grid objects!  Each grid object mediates accessing data from the disk and has a number of attributes that tell you about it.  The index (`ds.index` here) has an attribute `grids` which is all of the grid objects."
   ]
  },
  {
   "cell_type": "code",
   "execution_count": 12,
   "metadata": {
    "collapsed": false,
    "jupyter": {
     "outputs_hidden": false
    }
   },
   "outputs": [
    {
     "data": {
      "text/plain": [
       "EnzoGrid_0002"
      ]
     },
     "execution_count": 12,
     "metadata": {},
     "output_type": "execute_result"
    }
   ],
   "source": [
    "ds.index.grids[1]"
   ]
  },
  {
   "cell_type": "code",
   "execution_count": 13,
   "metadata": {
    "collapsed": false,
    "jupyter": {
     "outputs_hidden": false
    }
   },
   "outputs": [
    {
     "name": "stdout",
     "output_type": "stream",
     "text": [
      "EnzoGrid_0002\n"
     ]
    }
   ],
   "source": [
    "g = ds.index.grids[1]\n",
    "print(g)"
   ]
  },
  {
   "cell_type": "code",
   "execution_count": 28,
   "metadata": {},
   "outputs": [
    {
     "data": {
      "text/plain": [
       "array([EnzoGrid_0001, EnzoGrid_0002, EnzoGrid_0003, EnzoGrid_0004,\n",
       "       EnzoGrid_0005, EnzoGrid_0006, EnzoGrid_0007, EnzoGrid_0008,\n",
       "       EnzoGrid_0009, EnzoGrid_0010, EnzoGrid_0011, EnzoGrid_0012,\n",
       "       EnzoGrid_0013, EnzoGrid_0014, EnzoGrid_0015, EnzoGrid_0016,\n",
       "       EnzoGrid_0017, EnzoGrid_0018, EnzoGrid_0019, EnzoGrid_0020,\n",
       "       EnzoGrid_0021, EnzoGrid_0022, EnzoGrid_0023, EnzoGrid_0024,\n",
       "       EnzoGrid_0025, EnzoGrid_0026, EnzoGrid_0027, EnzoGrid_0028,\n",
       "       EnzoGrid_0029, EnzoGrid_0030, EnzoGrid_0031, EnzoGrid_0032,\n",
       "       EnzoGrid_0033, EnzoGrid_0034, EnzoGrid_0035, EnzoGrid_0036,\n",
       "       EnzoGrid_0037, EnzoGrid_0038, EnzoGrid_0039, EnzoGrid_0040,\n",
       "       EnzoGrid_0041, EnzoGrid_0042, EnzoGrid_0043, EnzoGrid_0044,\n",
       "       EnzoGrid_0045, EnzoGrid_0046, EnzoGrid_0047, EnzoGrid_0048,\n",
       "       EnzoGrid_0049, EnzoGrid_0050, EnzoGrid_0051, EnzoGrid_0052,\n",
       "       EnzoGrid_0053, EnzoGrid_0054, EnzoGrid_0055, EnzoGrid_0056,\n",
       "       EnzoGrid_0057, EnzoGrid_0058, EnzoGrid_0059, EnzoGrid_0060,\n",
       "       EnzoGrid_0061, EnzoGrid_0062, EnzoGrid_0063, EnzoGrid_0064,\n",
       "       EnzoGrid_0065, EnzoGrid_0066, EnzoGrid_0067, EnzoGrid_0068,\n",
       "       EnzoGrid_0069, EnzoGrid_0070, EnzoGrid_0071, EnzoGrid_0072,\n",
       "       EnzoGrid_0073, EnzoGrid_0074, EnzoGrid_0075, EnzoGrid_0076,\n",
       "       EnzoGrid_0077, EnzoGrid_0078, EnzoGrid_0079, EnzoGrid_0080,\n",
       "       EnzoGrid_0081, EnzoGrid_0082, EnzoGrid_0083, EnzoGrid_0084,\n",
       "       EnzoGrid_0085, EnzoGrid_0086, EnzoGrid_0087, EnzoGrid_0088,\n",
       "       EnzoGrid_0089, EnzoGrid_0090, EnzoGrid_0091, EnzoGrid_0092,\n",
       "       EnzoGrid_0093, EnzoGrid_0094, EnzoGrid_0095, EnzoGrid_0096,\n",
       "       EnzoGrid_0097, EnzoGrid_0098, EnzoGrid_0099, EnzoGrid_0100,\n",
       "       EnzoGrid_0101, EnzoGrid_0102, EnzoGrid_0103, EnzoGrid_0104,\n",
       "       EnzoGrid_0105, EnzoGrid_0106, EnzoGrid_0107, EnzoGrid_0108,\n",
       "       EnzoGrid_0109, EnzoGrid_0110, EnzoGrid_0111, EnzoGrid_0112,\n",
       "       EnzoGrid_0113, EnzoGrid_0114, EnzoGrid_0115, EnzoGrid_0116,\n",
       "       EnzoGrid_0117, EnzoGrid_0118, EnzoGrid_0119, EnzoGrid_0120,\n",
       "       EnzoGrid_0121, EnzoGrid_0122, EnzoGrid_0123, EnzoGrid_0124,\n",
       "       EnzoGrid_0125, EnzoGrid_0126, EnzoGrid_0127, EnzoGrid_0128,\n",
       "       EnzoGrid_0129, EnzoGrid_0130, EnzoGrid_0131, EnzoGrid_0132,\n",
       "       EnzoGrid_0133, EnzoGrid_0134, EnzoGrid_0135, EnzoGrid_0136,\n",
       "       EnzoGrid_0137, EnzoGrid_0138, EnzoGrid_0139, EnzoGrid_0140,\n",
       "       EnzoGrid_0141, EnzoGrid_0142, EnzoGrid_0143, EnzoGrid_0144,\n",
       "       EnzoGrid_0145, EnzoGrid_0146, EnzoGrid_0147, EnzoGrid_0148,\n",
       "       EnzoGrid_0149, EnzoGrid_0150, EnzoGrid_0151, EnzoGrid_0152,\n",
       "       EnzoGrid_0153, EnzoGrid_0154, EnzoGrid_0155, EnzoGrid_0156,\n",
       "       EnzoGrid_0157, EnzoGrid_0158, EnzoGrid_0159, EnzoGrid_0160,\n",
       "       EnzoGrid_0161, EnzoGrid_0162, EnzoGrid_0163, EnzoGrid_0164,\n",
       "       EnzoGrid_0165, EnzoGrid_0166, EnzoGrid_0167, EnzoGrid_0168,\n",
       "       EnzoGrid_0169, EnzoGrid_0170, EnzoGrid_0171, EnzoGrid_0172,\n",
       "       EnzoGrid_0173], dtype=object)"
      ]
     },
     "execution_count": 28,
     "metadata": {},
     "output_type": "execute_result"
    }
   ],
   "source": [
    "ds.index.grids"
   ]
  },
  {
   "cell_type": "markdown",
   "metadata": {},
   "source": [
    "Grids have dimensions, extents, level, and even a list of Child grids."
   ]
  },
  {
   "cell_type": "code",
   "execution_count": 14,
   "metadata": {
    "collapsed": false,
    "jupyter": {
     "outputs_hidden": false
    }
   },
   "outputs": [
    {
     "data": {
      "text/plain": [
       "array([16, 18, 16], dtype=int32)"
      ]
     },
     "execution_count": 14,
     "metadata": {},
     "output_type": "execute_result"
    }
   ],
   "source": [
    "g.ActiveDimensions"
   ]
  },
  {
   "cell_type": "code",
   "execution_count": 15,
   "metadata": {
    "collapsed": false,
    "jupyter": {
     "outputs_hidden": false
    }
   },
   "outputs": [
    {
     "data": {
      "text/plain": [
       "(unyt_array([0.25   , 0.21875, 0.25   ], 'code_length'),\n",
       " unyt_array([0.5, 0.5, 0.5], 'code_length'))"
      ]
     },
     "execution_count": 15,
     "metadata": {},
     "output_type": "execute_result"
    }
   ],
   "source": [
    "g.LeftEdge, g.RightEdge"
   ]
  },
  {
   "cell_type": "code",
   "execution_count": 16,
   "metadata": {
    "collapsed": false,
    "jupyter": {
     "outputs_hidden": false
    }
   },
   "outputs": [
    {
     "data": {
      "text/plain": [
       "1"
      ]
     },
     "execution_count": 16,
     "metadata": {},
     "output_type": "execute_result"
    }
   ],
   "source": [
    "g.Level"
   ]
  },
  {
   "cell_type": "code",
   "execution_count": 17,
   "metadata": {
    "collapsed": false,
    "jupyter": {
     "outputs_hidden": false
    }
   },
   "outputs": [
    {
     "data": {
      "text/plain": [
       "[EnzoGrid_0145]"
      ]
     },
     "execution_count": 17,
     "metadata": {},
     "output_type": "execute_result"
    }
   ],
   "source": [
    "g.Children"
   ]
  },
  {
   "cell_type": "markdown",
   "metadata": {},
   "source": [
    "## Advanced Grid Inspection\n",
    "\n",
    "If we want to examine grids only at a given level, we can!  Not only that, but we can load data and take a look at various fields.\n",
    "\n",
    "*This section can be skipped!*"
   ]
  },
  {
   "cell_type": "code",
   "execution_count": 18,
   "metadata": {
    "collapsed": false,
    "jupyter": {
     "outputs_hidden": false
    }
   },
   "outputs": [],
   "source": [
    "gs = ds.index.select_grids(ds.index.max_level)"
   ]
  },
  {
   "cell_type": "code",
   "execution_count": 19,
   "metadata": {
    "collapsed": false,
    "jupyter": {
     "outputs_hidden": false
    }
   },
   "outputs": [
    {
     "name": "stdout",
     "output_type": "stream",
     "text": [
      "EnzoGrid_0028\n",
      "EnzoGrid_0023\n",
      "[4096 4096 4096]\n"
     ]
    }
   ],
   "source": [
    "g2 = gs[0]\n",
    "print (g2)\n",
    "print (g2.Parent)\n",
    "print (g2.get_global_startindex())"
   ]
  },
  {
   "cell_type": "code",
   "execution_count": 20,
   "metadata": {
    "collapsed": false,
    "jupyter": {
     "outputs_hidden": false
    }
   },
   "outputs": [
    {
     "data": {
      "text/plain": [
       "unyt_array([[1.0136369e-25, 3.4564638e-25, 6.4192590e-25, ...,\n",
       "             5.9669651e-25, 5.1001470e-25, 4.2170473e-25],\n",
       "            [1.7664165e-25, 4.3917114e-25, 7.1012795e-25, ...,\n",
       "             4.8336836e-25, 2.3386585e-25, 1.5441057e-25],\n",
       "            [2.0398285e-25, 5.0713038e-25, 8.9340174e-25, ...,\n",
       "             1.5818960e-25, 6.5505691e-26, 4.2683066e-26],\n",
       "            ...,\n",
       "            [4.7057491e-25, 2.8565834e-25, 1.6021799e-25, ...,\n",
       "             9.8956538e-27, 1.0460956e-26, 1.1069824e-26],\n",
       "            [2.1737538e-25, 1.2614471e-25, 8.5885592e-26, ...,\n",
       "             9.5149775e-27, 9.9683854e-27, 1.0507010e-26],\n",
       "            [9.0090510e-26, 6.8866435e-26, 6.3422531e-26, ...,\n",
       "             9.1754346e-27, 9.5285530e-27, 1.0011084e-26]], dtype=float32, units='g/cm**3')"
      ]
     },
     "execution_count": 20,
     "metadata": {},
     "output_type": "execute_result"
    }
   ],
   "source": [
    "g2[\"density\"][:,:,0]"
   ]
  },
  {
   "cell_type": "code",
   "execution_count": 21,
   "metadata": {
    "collapsed": false,
    "jupyter": {
     "outputs_hidden": false
    }
   },
   "outputs": [
    {
     "name": "stdout",
     "output_type": "stream",
     "text": [
      "33592\n",
      "33592\n"
     ]
    }
   ],
   "source": [
    "print ((g2.Parent.child_mask == 0).sum() * 8)\n",
    "print (g2.ActiveDimensions.prod())"
   ]
  },
  {
   "cell_type": "code",
   "execution_count": 22,
   "metadata": {
    "collapsed": false,
    "jupyter": {
     "outputs_hidden": false
    }
   },
   "outputs": [
    {
     "name": "stdout",
     "output_type": "stream",
     "text": [
      "('all', 'creation_time') 0.0 s 0.0 s\n",
      "('all', 'dynamical_time') 0.0 s 0.0 s\n",
      "('all', 'metallicity_fraction') 0.0 code_metallicity 0.0 code_metallicity\n",
      "('all', 'particle_index') 495510.0 dimensionless 999626.0 dimensionless\n",
      "('all', 'particle_mass') 4.2555414545269184e+38 g 4.2555414545269184e+38 g\n",
      "('all', 'particle_position_x') 0.41541787345992065 code_length 0.4978604680250108 code_length\n",
      "('all', 'particle_position_y') 0.262784210985574 code_length 0.4940284595802798 code_length\n",
      "('all', 'particle_position_z') 0.262642536622731 code_length 0.4951038390260019 code_length\n",
      "('all', 'particle_type') 1.0 dimensionless 1.0 dimensionless\n",
      "('all', 'particle_velocity_x') -3771602.328267241 cm/s 6406800.047442201 cm/s\n",
      "('all', 'particle_velocity_y') -9214187.767832078 cm/s 1247333.940700183 cm/s\n",
      "('all', 'particle_velocity_z') -9018941.986469014 cm/s -186059.66175555275 cm/s\n",
      "('enzo', 'Average_creation_time') 0.0 dimensionless 0.0 dimensionless\n",
      "('enzo', 'Bx') 0.0 code_magnetic 0.0 code_magnetic\n",
      "('enzo', 'By') 0.0 code_magnetic 0.0 code_magnetic\n",
      "('enzo', 'Bz') 0.012791604 code_magnetic 0.012831846 code_magnetic\n",
      "('enzo', 'Cooling_Time') 39200162000000.0 s 1.1962319e+19 s\n",
      "('enzo', 'Dark_Matter_Density') 0.0 code_mass/code_length**3 1.0860616 code_mass/code_length**3\n",
      "('enzo', 'Density') 0.15646304 code_mass/code_length**3 1204.9136 code_mass/code_length**3\n",
      "('enzo', 'Electron_Density') 0.13746694 code_mass/code_length**3 799.5259 code_mass/code_length**3\n",
      "('enzo', 'Forming_Stellar_Mass_Density') 1e-10 dimensionless 1e-10 dimensionless\n",
      "('enzo', 'Galaxy1Colour') 0.15646304 dimensionless 1724.4418 dimensionless\n",
      "('enzo', 'Galaxy2Colour') 0.15646304 dimensionless 1724.4418 dimensionless\n",
      "('enzo', 'HII_Density') 0.11890293 code_mass/code_length**3 735.7007 code_mass/code_length**3\n",
      "('enzo', 'HI_Density') 1.2184947e-07 code_mass/code_length**3 178.85246 code_mass/code_length**3\n",
      "('enzo', 'HeIII_Density') 0.036707662 code_mass/code_length**3 29.421303 code_mass/code_length**3\n",
      "('enzo', 'HeII_Density') 0.00084066886 code_mass/code_length**3 196.45789 code_mass/code_length**3\n",
      "('enzo', 'HeI_Density') 3.8220507e-09 code_mass/code_length**3 62.92708 code_mass/code_length**3\n",
      "('enzo', 'MBHColour') 2.3229606e-11 dimensionless 6.0653377e-10 dimensionless\n",
      "('enzo', 'Metal_Density') 1.1651283e-05 code_mass/code_length**3 1.5543634 code_mass/code_length**3\n",
      "('enzo', 'PhiField') 0.0 dimensionless 0.0 dimensionless\n",
      "('enzo', 'Phi_pField') 0.0 dimensionless 0.0 dimensionless\n",
      "('enzo', 'SFR_Density') 1e-10 dimensionless 1e-10 dimensionless\n",
      "('enzo', 'Star_Particle_Density') 1e-10 dimensionless 1e-10 dimensionless\n",
      "('enzo', 'Temperature') 5423.749 K 13363.372 K\n",
      "('enzo', 'TotalEnergy') 0.64976573 code_velocity**2 1.4317576 code_velocity**2\n",
      "('enzo', 'gammaHI') 0.0 dimensionless 0.0 dimensionless\n",
      "('enzo', 'kphHI') 0.0 dimensionless 0.0 dimensionless\n",
      "('enzo', 'kphHeI') 0.0 dimensionless 0.0 dimensionless\n",
      "('enzo', 'kphHeII') 0.0 dimensionless 0.0 dimensionless\n",
      "('enzo', 'x-velocity') -0.8689198 code_velocity 10.238566 code_velocity\n",
      "('enzo', 'y-velocity') -1.5469203 code_velocity 7.3075 code_velocity\n",
      "('enzo', 'z-velocity') -1.0474687 code_velocity 9.704765 code_velocity\n",
      "('io', 'creation_time') 0.0 code_time 0.0 code_time\n",
      "('io', 'dynamical_time') 0.0 code_time 0.0 code_time\n",
      "('io', 'metallicity_fraction') 0.0 code_metallicity 0.0 code_metallicity\n",
      "('io', 'particle_index') 495510.0 dimensionless 999626.0 dimensionless\n",
      "('io', 'particle_mass') 5.244230578682618e-06 code_mass 5.244230578682618e-06 code_mass\n",
      "('io', 'particle_position_x') 0.41541787345992065 code_length 0.4978604680250108 code_length\n",
      "('io', 'particle_position_y') 0.262784210985574 code_length 0.4940284595802798 code_length\n",
      "('io', 'particle_position_z') 0.262642536622731 code_length 0.4951038390260019 code_length\n",
      "('io', 'particle_type') 1.0 dimensionless 1.0 dimensionless\n",
      "('io', 'particle_velocity_x') -2.846985340118408 code_velocity 4.836158275604248 code_velocity\n",
      "('io', 'particle_velocity_y') -6.955308437347412 code_velocity 0.941547155380249 code_velocity\n",
      "('io', 'particle_velocity_z') -6.80792760848999 code_velocity -0.1404467076063156 code_velocity\n",
      "('nbody', 'creation_time') 0.0 s 0.0 s\n",
      "('nbody', 'dynamical_time') 0.0 s 0.0 s\n",
      "('nbody', 'metallicity_fraction') 0.0 code_metallicity 0.0 code_metallicity\n",
      "('nbody', 'particle_index') 495510.0 dimensionless 999626.0 dimensionless\n",
      "('nbody', 'particle_mass') 4.2555414545269184e+38 g 4.2555414545269184e+38 g\n",
      "('nbody', 'particle_position_x') 0.41541787345992065 code_length 0.4978604680250108 code_length\n",
      "('nbody', 'particle_position_y') 0.262784210985574 code_length 0.4940284595802798 code_length\n",
      "('nbody', 'particle_position_z') 0.262642536622731 code_length 0.4951038390260019 code_length\n",
      "('nbody', 'particle_type') 1.0 dimensionless 1.0 dimensionless\n",
      "('nbody', 'particle_velocity_x') -3771602.328267241 cm/s 6406800.047442201 cm/s\n",
      "('nbody', 'particle_velocity_y') -9214187.767832078 cm/s 1247333.940700183 cm/s\n",
      "('nbody', 'particle_velocity_z') -9018941.986469014 cm/s -186059.66175555275 cm/s\n"
     ]
    }
   ],
   "source": [
    "for f in ds.field_list:\n",
    "    fv = g[f]\n",
    "    if fv.size == 0: continue\n",
    "    print (f, fv.min(), fv.max())"
   ]
  },
  {
   "cell_type": "markdown",
   "metadata": {},
   "source": [
    "# Examining Data in Regions\n",
    "\n",
    "yt provides data object selectors.  In subsequent notebooks we'll examine these in more detail, but we can select a sphere of data and perform a number of operations on it.  yt makes it easy to operate on fluid fields in an object in *bulk*, but you can also examine individual field values.\n",
    "\n",
    "This creates a sphere selector positioned at the most dense point in the simulation that has a radius of 10 kpc."
   ]
  },
  {
   "cell_type": "code",
   "execution_count": 23,
   "metadata": {
    "collapsed": false,
    "jupyter": {
     "outputs_hidden": false
    }
   },
   "outputs": [
    {
     "name": "stderr",
     "output_type": "stream",
     "text": [
      "yt : [INFO     ] 2021-06-24 11:20:06,858 max value is 7.73427e-24 at 1555619750976562514624512.0000000000000000 1542434936523437511802880.0000000000000000 1543565063476562274287616.0000000000000000\n"
     ]
    }
   ],
   "source": [
    "sp = ds.sphere(\"max\", (10, 'kpc'))"
   ]
  },
  {
   "cell_type": "code",
   "execution_count": 24,
   "metadata": {
    "collapsed": false,
    "jupyter": {
     "outputs_hidden": false
    }
   },
   "outputs": [
    {
     "data": {
      "text/plain": [
       "YTSphere (galaxy0030): , center=[1.55561975e+24 1.54243494e+24 1.54356506e+24] cm cm, radius=3.085677580962325e+22 cm"
      ]
     },
     "execution_count": 24,
     "metadata": {},
     "output_type": "execute_result"
    }
   ],
   "source": [
    "sp"
   ]
  },
  {
   "cell_type": "markdown",
   "metadata": {},
   "source": [
    "We can calculate a bunch of bulk quantities.  Here's that list, but there's a list in the docs, too!"
   ]
  },
  {
   "cell_type": "code",
   "execution_count": 25,
   "metadata": {
    "collapsed": false,
    "jupyter": {
     "outputs_hidden": false
    }
   },
   "outputs": [
    {
     "data": {
      "text/plain": [
       "['WeightedAverageQuantity',\n",
       " 'TotalQuantity',\n",
       " 'TotalMass',\n",
       " 'CenterOfMass',\n",
       " 'BulkVelocity',\n",
       " 'WeightedStandardDeviation',\n",
       " 'WeightedVariance',\n",
       " 'AngularMomentumVector',\n",
       " 'Extrema',\n",
       " 'SampleAtMaxFieldValues',\n",
       " 'MaxLocation',\n",
       " 'SampleAtMinFieldValues',\n",
       " 'MinLocation',\n",
       " 'SpinParameter']"
      ]
     },
     "execution_count": 25,
     "metadata": {},
     "output_type": "execute_result"
    }
   ],
   "source": [
    "list(sp.quantities.keys())"
   ]
  },
  {
   "cell_type": "markdown",
   "metadata": {},
   "source": [
    "Let's look at the total mass.  This is how you call a given quantity.  yt calls these \"Derived Quantities\".  We'll talk about a few in a later notebook."
   ]
  },
  {
   "cell_type": "code",
   "execution_count": 26,
   "metadata": {
    "collapsed": false,
    "jupyter": {
     "outputs_hidden": false
    }
   },
   "outputs": [
    {
     "data": {
      "text/plain": [
       "unyt_array([3.27209035e+42, 8.58102338e+43], 'g')"
      ]
     },
     "execution_count": 26,
     "metadata": {},
     "output_type": "execute_result"
    }
   ],
   "source": [
    "sp.quantities.total_mass()"
   ]
  },
  {
   "cell_type": "code",
   "execution_count": null,
   "metadata": {},
   "outputs": [],
   "source": []
  }
 ],
 "metadata": {
  "kernelspec": {
   "display_name": "Python 3",
   "language": "python",
   "name": "python3"
  },
  "language_info": {
   "codemirror_mode": {
    "name": "ipython",
    "version": 3
   },
   "file_extension": ".py",
   "mimetype": "text/x-python",
   "name": "python",
   "nbconvert_exporter": "python",
   "pygments_lexer": "ipython3",
   "version": "3.8.8"
  }
 },
 "nbformat": 4,
 "nbformat_minor": 4
}
